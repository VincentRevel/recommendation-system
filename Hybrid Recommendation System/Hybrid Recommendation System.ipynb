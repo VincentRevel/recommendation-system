{
 "cells": [
  {
   "cell_type": "markdown",
   "id": "11cbecf7",
   "metadata": {},
   "source": [
    "---\n",
    "\n",
    "🎬 **Welcome to the Movie Recommendation System Notebook!** 🍿\n",
    "\n",
    "In this notebook, we'll dive into the exciting world of movie recommendations. Whether you're a movie buff looking for new gems or a data enthusiast exploring recommendation systems, this journey is for you!\n",
    "\n",
    "🤖 Throughout this notebook, we'll learn how to build a hybrid recommendation system that combines the best of both worlds: non-personalized and collaborative filtering. This approach allows us to provide meaningful recommendations for both new and existing users.\n",
    "\n",
    "📚 So grab your popcorn, sit back, and let's get started on this cinematic adventure in recommendation systems!\n",
    "\n",
    "---"
   ]
  },
  {
   "cell_type": "markdown",
   "id": "720ec400",
   "metadata": {},
   "source": [
    "## 1. Import"
   ]
  },
  {
   "cell_type": "code",
   "execution_count": 1,
   "id": "b7a54cf1",
   "metadata": {},
   "outputs": [],
   "source": [
    "import pandas as pd"
   ]
  },
  {
   "cell_type": "code",
   "execution_count": 2,
   "id": "44dca1dc",
   "metadata": {},
   "outputs": [
    {
     "data": {
      "text/html": [
       "<div>\n",
       "<style scoped>\n",
       "    .dataframe tbody tr th:only-of-type {\n",
       "        vertical-align: middle;\n",
       "    }\n",
       "\n",
       "    .dataframe tbody tr th {\n",
       "        vertical-align: top;\n",
       "    }\n",
       "\n",
       "    .dataframe thead th {\n",
       "        text-align: right;\n",
       "    }\n",
       "</style>\n",
       "<table border=\"1\" class=\"dataframe\">\n",
       "  <thead>\n",
       "    <tr style=\"text-align: right;\">\n",
       "      <th></th>\n",
       "      <th>userId</th>\n",
       "      <th>movieId</th>\n",
       "      <th>rating</th>\n",
       "      <th>timestamp</th>\n",
       "    </tr>\n",
       "  </thead>\n",
       "  <tbody>\n",
       "    <tr>\n",
       "      <th>0</th>\n",
       "      <td>1</td>\n",
       "      <td>1</td>\n",
       "      <td>4.0</td>\n",
       "      <td>964982703</td>\n",
       "    </tr>\n",
       "    <tr>\n",
       "      <th>1</th>\n",
       "      <td>1</td>\n",
       "      <td>3</td>\n",
       "      <td>4.0</td>\n",
       "      <td>964981247</td>\n",
       "    </tr>\n",
       "    <tr>\n",
       "      <th>2</th>\n",
       "      <td>1</td>\n",
       "      <td>6</td>\n",
       "      <td>4.0</td>\n",
       "      <td>964982224</td>\n",
       "    </tr>\n",
       "    <tr>\n",
       "      <th>3</th>\n",
       "      <td>1</td>\n",
       "      <td>47</td>\n",
       "      <td>5.0</td>\n",
       "      <td>964983815</td>\n",
       "    </tr>\n",
       "    <tr>\n",
       "      <th>4</th>\n",
       "      <td>1</td>\n",
       "      <td>50</td>\n",
       "      <td>5.0</td>\n",
       "      <td>964982931</td>\n",
       "    </tr>\n",
       "  </tbody>\n",
       "</table>\n",
       "</div>"
      ],
      "text/plain": [
       "   userId  movieId  rating  timestamp\n",
       "0       1        1     4.0  964982703\n",
       "1       1        3     4.0  964981247\n",
       "2       1        6     4.0  964982224\n",
       "3       1       47     5.0  964983815\n",
       "4       1       50     5.0  964982931"
      ]
     },
     "execution_count": 2,
     "metadata": {},
     "output_type": "execute_result"
    }
   ],
   "source": [
    "rating_data = pd.read_csv('ratings.csv')\n",
    "\n",
    "rating_data.head()"
   ]
  },
  {
   "cell_type": "markdown",
   "id": "12da0714",
   "metadata": {},
   "source": [
    "- It can be seen that there are several features in this data\n",
    "\n",
    "|feature|description|\n",
    "|:--|:--|\n",
    "|`userId`|User ID|\n",
    "|`movieId`|Movie ID|\n",
    "|`rating`|The rating assigned by user-id x to movie-id i|\n",
    "|`timestamp`|Timestamp of recording the rating given by the user to the movie|"
   ]
  },
  {
   "cell_type": "code",
   "execution_count": 3,
   "id": "fcba9c4c",
   "metadata": {},
   "outputs": [
    {
     "data": {
      "text/plain": [
       "(100836, 4)"
      ]
     },
     "execution_count": 3,
     "metadata": {},
     "output_type": "execute_result"
    }
   ],
   "source": [
    "rating_data.shape"
   ]
  },
  {
   "cell_type": "markdown",
   "id": "b475d392",
   "metadata": {},
   "source": [
    "## 2. Wrangling Data"
   ]
  },
  {
   "cell_type": "code",
   "execution_count": 4,
   "id": "c16a8c95",
   "metadata": {},
   "outputs": [],
   "source": [
    "min_ratings = 5         # minimum number of ratings each movieId receives\n",
    "min_user_ratings = 5    # minimum number of movieIds given a rating by the user"
   ]
  },
  {
   "cell_type": "code",
   "execution_count": 5,
   "id": "5cbe59da",
   "metadata": {},
   "outputs": [
    {
     "data": {
      "text/plain": [
       "[356, 318, 296, 593, 2571, 260, 480, 110, 589, 527]"
      ]
     },
     "execution_count": 5,
     "metadata": {},
     "output_type": "execute_result"
    }
   ],
   "source": [
    "# Look for movieIds whose total ratings are > min_ratings\n",
    "cond_movie = rating_data['movieId'].value_counts() > min_ratings\n",
    "\n",
    "# Output the filtered movie_id\n",
    "filtered_movie_id = (\n",
    "     cond_movie[cond_movie] # 1. filter movieId that meets the conditions above\n",
    "     .index                 # 2. extract its movieId (its index)\n",
    "     .tolist()              # 3. then save it in a list\n",
    ")\n",
    "\n",
    "# Show results for the first 10 movieIds\n",
    "filtered_movie_id[:10]"
   ]
  },
  {
   "cell_type": "code",
   "execution_count": 6,
   "id": "26c8cbbb",
   "metadata": {},
   "outputs": [
    {
     "data": {
      "text/plain": [
       "[414, 599, 474, 448, 274, 610, 68, 380, 606, 288]"
      ]
     },
     "execution_count": 6,
     "metadata": {},
     "output_type": "execute_result"
    }
   ],
   "source": [
    "# Look for a userId whose total rating is > min_user_ratings\n",
    "cond_user = rating_data['userId'].value_counts() > min_user_ratings\n",
    "\n",
    "# Output the filtered movie_id\n",
    "filtered_user_id = (\n",
    "     cond_user[cond_user] # 1. filter userIds that meet the conditions above\n",
    "     .index               # 2. extract its userId (its index)\n",
    "     .tolist()            # 3. then save it in a list\n",
    ")\n",
    "\n",
    "# Show results for the first 10 userIds\n",
    "filtered_user_id[:10]"
   ]
  },
  {
   "cell_type": "code",
   "execution_count": 7,
   "id": "3d260567",
   "metadata": {},
   "outputs": [
    {
     "data": {
      "text/html": [
       "<div>\n",
       "<style scoped>\n",
       "    .dataframe tbody tr th:only-of-type {\n",
       "        vertical-align: middle;\n",
       "    }\n",
       "\n",
       "    .dataframe tbody tr th {\n",
       "        vertical-align: top;\n",
       "    }\n",
       "\n",
       "    .dataframe thead th {\n",
       "        text-align: right;\n",
       "    }\n",
       "</style>\n",
       "<table border=\"1\" class=\"dataframe\">\n",
       "  <thead>\n",
       "    <tr style=\"text-align: right;\">\n",
       "      <th></th>\n",
       "      <th>userId</th>\n",
       "      <th>movieId</th>\n",
       "      <th>rating</th>\n",
       "      <th>timestamp</th>\n",
       "    </tr>\n",
       "  </thead>\n",
       "  <tbody>\n",
       "    <tr>\n",
       "      <th>0</th>\n",
       "      <td>1</td>\n",
       "      <td>1</td>\n",
       "      <td>4.0</td>\n",
       "      <td>964982703</td>\n",
       "    </tr>\n",
       "    <tr>\n",
       "      <th>1</th>\n",
       "      <td>1</td>\n",
       "      <td>3</td>\n",
       "      <td>4.0</td>\n",
       "      <td>964981247</td>\n",
       "    </tr>\n",
       "    <tr>\n",
       "      <th>2</th>\n",
       "      <td>1</td>\n",
       "      <td>6</td>\n",
       "      <td>4.0</td>\n",
       "      <td>964982224</td>\n",
       "    </tr>\n",
       "    <tr>\n",
       "      <th>3</th>\n",
       "      <td>1</td>\n",
       "      <td>47</td>\n",
       "      <td>5.0</td>\n",
       "      <td>964983815</td>\n",
       "    </tr>\n",
       "    <tr>\n",
       "      <th>4</th>\n",
       "      <td>1</td>\n",
       "      <td>50</td>\n",
       "      <td>5.0</td>\n",
       "      <td>964982931</td>\n",
       "    </tr>\n",
       "    <tr>\n",
       "      <th>...</th>\n",
       "      <td>...</td>\n",
       "      <td>...</td>\n",
       "      <td>...</td>\n",
       "      <td>...</td>\n",
       "    </tr>\n",
       "    <tr>\n",
       "      <th>100830</th>\n",
       "      <td>610</td>\n",
       "      <td>166528</td>\n",
       "      <td>4.0</td>\n",
       "      <td>1493879365</td>\n",
       "    </tr>\n",
       "    <tr>\n",
       "      <th>100831</th>\n",
       "      <td>610</td>\n",
       "      <td>166534</td>\n",
       "      <td>4.0</td>\n",
       "      <td>1493848402</td>\n",
       "    </tr>\n",
       "    <tr>\n",
       "      <th>100832</th>\n",
       "      <td>610</td>\n",
       "      <td>168248</td>\n",
       "      <td>5.0</td>\n",
       "      <td>1493850091</td>\n",
       "    </tr>\n",
       "    <tr>\n",
       "      <th>100833</th>\n",
       "      <td>610</td>\n",
       "      <td>168250</td>\n",
       "      <td>5.0</td>\n",
       "      <td>1494273047</td>\n",
       "    </tr>\n",
       "    <tr>\n",
       "      <th>100834</th>\n",
       "      <td>610</td>\n",
       "      <td>168252</td>\n",
       "      <td>5.0</td>\n",
       "      <td>1493846352</td>\n",
       "    </tr>\n",
       "  </tbody>\n",
       "</table>\n",
       "<p>88364 rows × 4 columns</p>\n",
       "</div>"
      ],
      "text/plain": [
       "        userId  movieId  rating   timestamp\n",
       "0            1        1     4.0   964982703\n",
       "1            1        3     4.0   964981247\n",
       "2            1        6     4.0   964982224\n",
       "3            1       47     5.0   964983815\n",
       "4            1       50     5.0   964982931\n",
       "...        ...      ...     ...         ...\n",
       "100830     610   166528     4.0  1493879365\n",
       "100831     610   166534     4.0  1493848402\n",
       "100832     610   168248     5.0  1493850091\n",
       "100833     610   168250     5.0  1494273047\n",
       "100834     610   168252     5.0  1493846352\n",
       "\n",
       "[88364 rows x 4 columns]"
      ]
     },
     "execution_count": 7,
     "metadata": {},
     "output_type": "execute_result"
    }
   ],
   "source": [
    "# Create the final dataset based on the conditions above\n",
    "rating_data_final = (\n",
    "     rating_data[                                         # Filter rating data complies\n",
    "         (rating_data['movieId'].isin(filtered_movie_id)) # cond 1: corresponding movie Id filtered_movie_id\n",
    "         &                                                # AND\n",
    "         (rating_data['userId'].isin(filtered_user_id))   # cond 2: corresponding user Id filtered_user_id\n",
    "     ]\n",
    ")\n",
    "\n",
    "rating_data_final"
   ]
  },
  {
   "cell_type": "markdown",
   "id": "ebbe8eab",
   "metadata": {},
   "source": [
    "Seen from 100,000 rating data, now we have ~90,000 rating data"
   ]
  },
  {
   "cell_type": "markdown",
   "id": "a29219c9",
   "metadata": {},
   "source": [
    "## 3. Determine whether the user is new or not"
   ]
  },
  {
   "cell_type": "markdown",
   "id": "43b7897c",
   "metadata": {},
   "source": [
    "<br>\n",
    "<center>\n",
    "<img src=\"https://sekolahdata-assets.s3.ap-southeast-1.amazonaws.com/notebook-images/intro-ai-recommendersystem/5_01.png\">"
   ]
  },
  {
   "cell_type": "code",
   "execution_count": 8,
   "id": "8c14b442",
   "metadata": {},
   "outputs": [],
   "source": [
    "user_id = 843"
   ]
  },
  {
   "cell_type": "code",
   "execution_count": 9,
   "id": "e74db438",
   "metadata": {},
   "outputs": [
    {
     "data": {
      "text/plain": [
       "array([ 1,  2,  3,  4,  5,  6,  7,  8,  9, 10, 11, 12, 13, 14, 15, 16, 17,\n",
       "       18, 19, 20, 21, 22, 23, 24, 25, 26, 27, 28, 29, 30, 31, 32, 33, 34,\n",
       "       35, 36, 37, 38, 39, 40, 41, 42, 43, 44, 45, 46, 47, 48, 49, 50])"
      ]
     },
     "execution_count": 9,
     "metadata": {},
     "output_type": "execute_result"
    }
   ],
   "source": [
    "# To find whether the user ID is new or not\n",
    "# we just have to check all user IDs who have rated the film\n",
    "import numpy as np\n",
    "\n",
    "old_user_id = np.array(list(set(rating_data_final['userId'])))\n",
    "old_user_id[:50]"
   ]
  },
  {
   "cell_type": "code",
   "execution_count": 10,
   "id": "6266fcf7",
   "metadata": {},
   "outputs": [
    {
     "data": {
      "text/plain": [
       "False"
      ]
     },
     "execution_count": 10,
     "metadata": {},
     "output_type": "execute_result"
    }
   ],
   "source": [
    "# Now, check whether the user id is a new user id / not\n",
    "# then output old_user status\n",
    "if user_id in old_user_id:\n",
    "    is_old_user = True\n",
    "else:\n",
    "    is_old_user = False\n",
    "\n",
    "is_old_user"
   ]
  },
  {
   "cell_type": "markdown",
   "id": "e5cb98b0",
   "metadata": {},
   "source": [
    "- It can be seen that `user_id = 843` is a new user\n",
    "- Let's prove it"
   ]
  },
  {
   "cell_type": "code",
   "execution_count": 12,
   "id": "84121225",
   "metadata": {},
   "outputs": [
    {
     "data": {
      "text/html": [
       "<div>\n",
       "<style scoped>\n",
       "    .dataframe tbody tr th:only-of-type {\n",
       "        vertical-align: middle;\n",
       "    }\n",
       "\n",
       "    .dataframe tbody tr th {\n",
       "        vertical-align: top;\n",
       "    }\n",
       "\n",
       "    .dataframe thead th {\n",
       "        text-align: right;\n",
       "    }\n",
       "</style>\n",
       "<table border=\"1\" class=\"dataframe\">\n",
       "  <thead>\n",
       "    <tr style=\"text-align: right;\">\n",
       "      <th></th>\n",
       "      <th>userId</th>\n",
       "      <th>movieId</th>\n",
       "      <th>rating</th>\n",
       "      <th>timestamp</th>\n",
       "    </tr>\n",
       "  </thead>\n",
       "  <tbody>\n",
       "  </tbody>\n",
       "</table>\n",
       "</div>"
      ],
      "text/plain": [
       "Empty DataFrame\n",
       "Columns: [userId, movieId, rating, timestamp]\n",
       "Index: []"
      ]
     },
     "execution_count": 12,
     "metadata": {},
     "output_type": "execute_result"
    }
   ],
   "source": [
    "# We check the activity of user ID 843\n",
    "rating_data_final[rating_data_final['userId'] == 843]"
   ]
  },
  {
   "cell_type": "markdown",
   "id": "40dd0fcb",
   "metadata": {},
   "source": [
    "- No activity\n",
    "- Now enter it into a function that checks the user ID status"
   ]
  },
  {
   "cell_type": "code",
   "execution_count": 13,
   "id": "838ebd09",
   "metadata": {},
   "outputs": [],
   "source": [
    "# Function to check whether the user ID entered is new or old\n",
    "def check_user_id(user_id, rating_data):\n",
    "    \"\"\"\n",
    "    Function to check if the user ID is new or existing.\n",
    "\n",
    "    This function returns the status in JSON format.\n",
    "\n",
    "    Parameters\n",
    "    ----------\n",
    "    user_id : int\n",
    "        User ID\n",
    "\n",
    "    rating_data : pd.DataFrame\n",
    "        User's rating activity on movies\n",
    "\n",
    "    Returns\n",
    "    -------\n",
    "    status : dict\n",
    "        Status of the user ID\n",
    "    \"\"\"\n",
    "    # First, find the set of old_user_ids from the rating_data\n",
    "    old_user_ids = np.array(list(set(rating_data['userId'])))\n",
    "\n",
    "    # Next, check if the user id is in old_user_ids\n",
    "    if user_id in old_user_ids:\n",
    "        is_old_user = True\n",
    "    else:\n",
    "        is_old_user = False\n",
    "\n",
    "    # Finally, return the status as a dictionary\n",
    "    status = {\n",
    "        'userId': user_id,\n",
    "        'is_old_user': is_old_user\n",
    "    }\n",
    "\n",
    "    return status"
   ]
  },
  {
   "cell_type": "code",
   "execution_count": 15,
   "id": "f8d0a669",
   "metadata": {},
   "outputs": [
    {
     "data": {
      "text/plain": [
       "{'userId': 3, 'is_old_user': True}"
      ]
     },
     "execution_count": 15,
     "metadata": {},
     "output_type": "execute_result"
    }
   ],
   "source": [
    "# Check the status of user_id = 3\n",
    "check_user_id(user_id = 3,\n",
    "              rating_data = rating_data_final)"
   ]
  },
  {
   "cell_type": "markdown",
   "id": "ad8ad74b",
   "metadata": {},
   "source": [
    "## 4. Create non-personalized models"
   ]
  },
  {
   "cell_type": "markdown",
   "id": "01336617",
   "metadata": {},
   "source": [
    "- This model will predict top rated movies\n",
    "\n",
    "<br>\n",
    "<center>\n",
    "<img src=\"https://sekolahdata-assets.s3.ap-southeast-1.amazonaws.com/notebook-images/intro-ai-recommendersystem/5_02.png\">"
   ]
  },
  {
   "cell_type": "code",
   "execution_count": 17,
   "id": "b29e5c76",
   "metadata": {},
   "outputs": [
    {
     "data": {
      "text/html": [
       "<div>\n",
       "<style scoped>\n",
       "    .dataframe tbody tr th:only-of-type {\n",
       "        vertical-align: middle;\n",
       "    }\n",
       "\n",
       "    .dataframe tbody tr th {\n",
       "        vertical-align: top;\n",
       "    }\n",
       "\n",
       "    .dataframe thead th {\n",
       "        text-align: right;\n",
       "    }\n",
       "</style>\n",
       "<table border=\"1\" class=\"dataframe\">\n",
       "  <thead>\n",
       "    <tr style=\"text-align: right;\">\n",
       "      <th></th>\n",
       "      <th>rating</th>\n",
       "    </tr>\n",
       "    <tr>\n",
       "      <th>movieId</th>\n",
       "      <th></th>\n",
       "    </tr>\n",
       "  </thead>\n",
       "  <tbody>\n",
       "    <tr>\n",
       "      <th>356</th>\n",
       "      <td>329</td>\n",
       "    </tr>\n",
       "    <tr>\n",
       "      <th>318</th>\n",
       "      <td>317</td>\n",
       "    </tr>\n",
       "    <tr>\n",
       "      <th>296</th>\n",
       "      <td>307</td>\n",
       "    </tr>\n",
       "    <tr>\n",
       "      <th>593</th>\n",
       "      <td>279</td>\n",
       "    </tr>\n",
       "    <tr>\n",
       "      <th>2571</th>\n",
       "      <td>278</td>\n",
       "    </tr>\n",
       "    <tr>\n",
       "      <th>...</th>\n",
       "      <td>...</td>\n",
       "    </tr>\n",
       "    <tr>\n",
       "      <th>3007</th>\n",
       "      <td>6</td>\n",
       "    </tr>\n",
       "    <tr>\n",
       "      <th>2976</th>\n",
       "      <td>6</td>\n",
       "    </tr>\n",
       "    <tr>\n",
       "      <th>2971</th>\n",
       "      <td>6</td>\n",
       "    </tr>\n",
       "    <tr>\n",
       "      <th>78893</th>\n",
       "      <td>6</td>\n",
       "    </tr>\n",
       "    <tr>\n",
       "      <th>4215</th>\n",
       "      <td>6</td>\n",
       "    </tr>\n",
       "  </tbody>\n",
       "</table>\n",
       "<p>3268 rows × 1 columns</p>\n",
       "</div>"
      ],
      "text/plain": [
       "         rating\n",
       "movieId        \n",
       "356         329\n",
       "318         317\n",
       "296         307\n",
       "593         279\n",
       "2571        278\n",
       "...         ...\n",
       "3007          6\n",
       "2976          6\n",
       "2971          6\n",
       "78893         6\n",
       "4215          6\n",
       "\n",
       "[3268 rows x 1 columns]"
      ]
     },
     "execution_count": 17,
     "metadata": {},
     "output_type": "execute_result"
    }
   ],
   "source": [
    "# We want to wrangle to see the top 10 movies with the most ratings\n",
    "groupby_movie_id = (\n",
    "    rating_data_final                           # 1. get rating data\n",
    "    .groupby(by='movieId')                      # 2. group by movieId\n",
    "    .agg({'rating': 'count'})                   # 3. aggregate count of ratings for each group\n",
    "    .sort_values(by='rating', ascending=False)  # 4. then sort by highest to lowest rating count\n",
    ")\n",
    "\n",
    "groupby_movie_id"
   ]
  },
  {
   "cell_type": "code",
   "execution_count": 18,
   "id": "6649a7b4",
   "metadata": {},
   "outputs": [
    {
     "data": {
      "text/plain": [
       "array([ 356,  318,  296,  593, 2571,  260,  480,  110,  589,  527],\n",
       "      dtype=int64)"
      ]
     },
     "execution_count": 18,
     "metadata": {},
     "output_type": "execute_result"
    }
   ],
   "source": [
    "# Then, we simply select the top 10 movie IDs\n",
    "recommend_id = groupby_movie_id.index[:10].to_numpy()\n",
    "\n",
    "recommend_id"
   ]
  },
  {
   "cell_type": "code",
   "execution_count": 21,
   "id": "b7be7efe",
   "metadata": {},
   "outputs": [],
   "source": [
    "def get_non_personalized(n, rating_data):\n",
    "    \"\"\"\n",
    "    Function to output non-personalized recommended movie IDs.\n",
    "    Input only contains rating data (no need for user IDs),\n",
    "        as all recommendations will be the same for all users.\n",
    "\n",
    "    Parameters\n",
    "    ----------\n",
    "    n : int\n",
    "        Number of recommendations to output\n",
    "\n",
    "    rating_data : pd.DataFrame\n",
    "        Rating data\n",
    "\n",
    "    Returns\n",
    "    -------\n",
    "    recommend_id : np.array\n",
    "        List containing the recommended movie IDs\n",
    "    \"\"\"\n",
    "    # First, group by movieId in the rating data\n",
    "    groupby_movie_id = (\n",
    "        rating_data                                 # 1. get rating data\n",
    "        .groupby(by='movieId')                      # 2. group by movieId\n",
    "        .agg({'rating': 'count'})                   # 3. aggregate count of ratings for each group\n",
    "        .sort_values(by='rating', ascending=False)  # 4. sort by highest to lowest rating count\n",
    "    )\n",
    "\n",
    "    # Next, select n recommendations\n",
    "    recommend_id = (\n",
    "        groupby_movie_id                            # 1. in groupby_movie_id\n",
    "        .index[:n]                                  # 2. select top n indices\n",
    "        .to_numpy()                                 # 3. and convert to Numpy array\n",
    "    )\n",
    "\n",
    "    # Finally, return recommend_id\n",
    "    return recommend_id"
   ]
  },
  {
   "cell_type": "code",
   "execution_count": 22,
   "id": "17182430",
   "metadata": {},
   "outputs": [
    {
     "data": {
      "text/plain": [
       "array([ 356,  318,  296,  593, 2571,  260,  480,  110,  589,  527],\n",
       "      dtype=int64)"
      ]
     },
     "execution_count": 22,
     "metadata": {},
     "output_type": "execute_result"
    }
   ],
   "source": [
    "get_non_personalized(n = 10,\n",
    "                     rating_data = rating_data_final)"
   ]
  },
  {
   "cell_type": "markdown",
   "id": "ed4492c9",
   "metadata": {},
   "source": [
    "---\n",
    "**Fun Fact**\n",
    "1. What is the problem with this non-personalized recommendation system?  \n",
    "---> Old films may be included, because the longer the film, the higher the rating number.\n",
    "2. How to fix the problem?  \n",
    "---> Select the top-rated films in the last xx years."
   ]
  },
  {
   "cell_type": "markdown",
   "id": "8209a893",
   "metadata": {},
   "source": [
    "---\n",
    "## 5. Creating personalized models: collaborative filtering"
   ]
  },
  {
   "cell_type": "markdown",
   "id": "2ed1058e",
   "metadata": {},
   "source": [
    "<br>\n",
    "<center>\n",
    "<img src=\"https://sekolahdata-assets.s3.ap-southeast-1.amazonaws.com/notebook-images/intro-ai-recommendersystem/5_03.png\">"
   ]
  },
  {
   "cell_type": "code",
   "execution_count": 24,
   "id": "87b8fcaa",
   "metadata": {},
   "outputs": [],
   "source": [
    "from surprise import Reader, Dataset\n",
    "\n",
    "# Create a reader object\n",
    "reader = Reader(rating_scale=(1, 5)) # Define the rating scale. We use a scale of 1-5\n",
    "\n",
    "# Create a data object\n",
    "# This object was created to enable cross-validation of the model\n",
    "data = Dataset.load_from_df(df = rating_data_final[['userId', 'movieId', 'rating']], # Insert data\n",
    "                             reader = reader)                                        # Enter reader"
   ]
  },
  {
   "cell_type": "code",
   "execution_count": 25,
   "id": "d5ee6f91",
   "metadata": {},
   "outputs": [
    {
     "name": "stdout",
     "output_type": "stream",
     "text": [
      "Estimating biases using als...\n",
      "Computing the msd similarity matrix...\n",
      "Done computing similarity matrix.\n"
     ]
    },
    {
     "data": {
      "text/plain": [
       "<surprise.prediction_algorithms.knns.KNNBaseline at 0x1e90e844e90>"
      ]
     },
     "execution_count": 25,
     "metadata": {},
     "output_type": "execute_result"
    }
   ],
   "source": [
    "from surprise import KNNBaseline\n",
    "\n",
    "# Create a trainset\n",
    "trainset = data.build_full_trainset()\n",
    "\n",
    "# Do training\n",
    "algo_best = KNNBaseline()\n",
    "algo_best.fit(trainset)"
   ]
  },
  {
   "cell_type": "code",
   "execution_count": 31,
   "id": "1f216718",
   "metadata": {},
   "outputs": [],
   "source": [
    "# This is the code to predict the rating that user-u will give to item-i\n",
    "def predict_item_rating(user_id, item_id, model):\n",
    "    \"\"\"\n",
    "    Predict the rating that user-u will give to item-i\n",
    "\n",
    "    Parameters\n",
    "    ----------\n",
    "    user_id : int\n",
    "        User ID\n",
    "\n",
    "    item_id : int\n",
    "        Item ID\n",
    "\n",
    "    model : surprise model\n",
    "        Collaborative filtering model\n",
    "\n",
    "    Returns\n",
    "    -------\n",
    "    dict\n",
    "        A dictionary containing the user ID, item ID, predicted rating, and prediction details\n",
    "    \"\"\"\n",
    "    # Perform prediction\n",
    "    pred = model.predict(uid=user_id, iid=item_id)\n",
    "\n",
    "    # Extract prediction result\n",
    "    return {\n",
    "        'user': user_id,\n",
    "        'item': item_id,\n",
    "        'rating_pred': np.round(pred.est, 1),\n",
    "        'details': pred.details\n",
    "    }\n",
    "\n",
    "# create a function to generate n movie recommendations for a user\n",
    "def get_personalized(user_id, n, model, rating_data):\n",
    "    \"\"\"\n",
    "    Function to find movie recommendations for a user based on collaborative filtering\n",
    "\n",
    "    Parameters\n",
    "    ----------\n",
    "    user_id : int\n",
    "        User ID\n",
    "\n",
    "    n : int\n",
    "        Number of recommendations\n",
    "\n",
    "    model : surprise model\n",
    "        Collaborative filtering model\n",
    "\n",
    "    rating_data : pd.DataFrame\n",
    "        Historical rating data\n",
    "\n",
    "    Returns\n",
    "    -------\n",
    "    recommend_movie_id : np.array\n",
    "        List containing recommendations of movie IDs for user_id\n",
    "    \"\"\"\n",
    "    # First, extract all movie IDs from the rating data\n",
    "    all_movie_id = set(rating_data['movieId'])\n",
    "\n",
    "    # Next, find the movie IDs that the user has watched\n",
    "    watched_movie_id = set(rating_data['movieId'][rating_data['userId'] == user_id])\n",
    "\n",
    "    # Then, find the movie IDs that the user has not watched yet\n",
    "    unwatched_movie_id = np.array(list(all_movie_id - watched_movie_id))\n",
    "\n",
    "    # Iterate to predict the rating for unwatched movie IDs\n",
    "    unwatched_rating = []\n",
    "    for movie_id in unwatched_movie_id:\n",
    "        pred = predict_item_rating(user_id=user_id, \n",
    "                                   item_id=movie_id, \n",
    "                                   model=model)\n",
    "        \n",
    "        unwatched_rating.append(pred['rating_pred'])\n",
    "    unwatched_rating = np.array(unwatched_rating)\n",
    "\n",
    "    # Next, sort the unwatched_rating from high to low and take the top n indices with the highest ratings\n",
    "    recommend_idx = (\n",
    "        np.argsort(unwatched_rating)[::-1]  # sort ratings from high to low\n",
    "        [:n]                               # take n highest values (indices)\n",
    "    )\n",
    "\n",
    "    # Finally, create a recommendation of movie IDs\n",
    "    recommend_movie_id = unwatched_movie_id[recommend_idx]\n",
    "\n",
    "    return recommend_movie_id"
   ]
  },
  {
   "cell_type": "code",
   "execution_count": 32,
   "id": "94b642e2",
   "metadata": {},
   "outputs": [
    {
     "data": {
      "text/plain": [
       "array([177593,   2239,   3451,   2202,   1248, 170705,   5747,   1041,\n",
       "         3266,   3201])"
      ]
     },
     "execution_count": 32,
     "metadata": {},
     "output_type": "execute_result"
    }
   ],
   "source": [
    "# Find recommendations for the 10 latest movies for user 610\n",
    "recommend_id = get_personalized(\n",
    "                    user_id = 610,                   # fill in with user id\n",
    "                    n = 10,                          # fill in with the number of recommendations\n",
    "                    model = algo_best,               # fill in with the final algorithm from collaborative filtering\n",
    "                    rating_data = rating_data_final  # fill in with historical data\n",
    "                )\n",
    "recommend_id"
   ]
  },
  {
   "cell_type": "markdown",
   "id": "1485266f",
   "metadata": {},
   "source": [
    "## 6. Combine all models into a system"
   ]
  },
  {
   "cell_type": "markdown",
   "id": "07fa8096",
   "metadata": {},
   "source": [
    "<br>\n",
    "<center>\n",
    "<img src=\"https://sekolahdata-assets.s3.ap-southeast-1.amazonaws.com/notebook-images/intro-ai-recommendersystem/5_04.png\">\n",
    "</center>\n",
    "\n",
    "- Flowchartnya\n",
    "  1. Check whether the user is new or not?\n",
    "  2. If you are a new user, give a non-personalized recommendation\n",
    "  3. If you are an old user, provide a personalized recommendation"
   ]
  },
  {
   "cell_type": "code",
   "execution_count": 33,
   "id": "99022e23",
   "metadata": {},
   "outputs": [
    {
     "data": {
      "text/plain": [
       "array([  1446, 116897,   5690,   1235,    741,  80906,   1237, 159817,\n",
       "          750,   2239])"
      ]
     },
     "execution_count": 33,
     "metadata": {},
     "output_type": "execute_result"
    }
   ],
   "source": [
    "# Input user id & number of recommendations (n)\n",
    "user_id = 1\n",
    "n = 10\n",
    "\n",
    "# Check if the user id is an old or new user\n",
    "results = check_user_id(user_id = user_id, \n",
    "                        rating_data = rating_data_final)\n",
    "\n",
    "# Make recommendations based on the condition\n",
    "if results['is_old_user'] == False:\n",
    "    # If the user id is a new user\n",
    "    # Call non-personalized recommendations\n",
    "    recommend_id = get_non_personalized(n = n, \n",
    "                                        rating_data = rating_data_final)\n",
    "else:\n",
    "    # If the user id is an old user\n",
    "    # Call collaborative filtering recommendations\n",
    "    recommend_id = get_personalized(user_id = user_id, \n",
    "                                    n = n, \n",
    "                                    model= algo_best, \n",
    "                                    rating_data = rating_data_final)\n",
    "\n",
    "# Display the recommendations\n",
    "recommend_id"
   ]
  },
  {
   "cell_type": "code",
   "execution_count": 50,
   "id": "9a568f34",
   "metadata": {},
   "outputs": [],
   "source": [
    "def get_recommendation(user_id, n, model, rating_data):\n",
    "    \"\"\"\n",
    "    Function that contains a hybrid recommendation system to help solve\n",
    "    the problem of cold-start users.\n",
    "\n",
    "    If the user is new -> non-personalized recommendation\n",
    "    If the user is old -> collaborative filtering recommendation\n",
    "\n",
    "    Parameters\n",
    "    ----------\n",
    "    user_id : int\n",
    "        User ID\n",
    "\n",
    "    n : int\n",
    "        Number of recommendations desired\n",
    "\n",
    "    model : surprise object\n",
    "        Model for collaborative filtering recommendations\n",
    "\n",
    "    rating_data : pd.DataFrame\n",
    "        Historical rating data\n",
    "\n",
    "    Returns\n",
    "    -------\n",
    "    recommend_id : np.array\n",
    "        n recommended movie IDs\n",
    "    \"\"\"\n",
    "    # First, check if the user ID is an old or new user\n",
    "    results = check_user_id(user_id=user_id, rating_data=rating_data)\n",
    "\n",
    "    # Next, make recommendations based on the condition\n",
    "    if results['is_old_user'] == False:\n",
    "        # If the user ID is a new user\n",
    "        print('=' * 40)\n",
    "        print('This user is a new user')\n",
    "        print('=' * 40)\n",
    "        # Call non-personalized recommendations\n",
    "        recommend_id = get_non_personalized(n=n, rating_data=rating_data)\n",
    "    else:\n",
    "        # If the user ID is an old user\n",
    "        print('=' * 40)        \n",
    "        print('This user is an old user')\n",
    "        print('=' * 40)\n",
    "        # Call collaborative filtering recommendations\n",
    "        recommend_id = get_personalized(user_id=user_id, n=n, model=model, rating_data=rating_data)\n",
    "\n",
    "    # Return the recommendation result\n",
    "    status = {\n",
    "        'user_id': user_id,\n",
    "        'recommend_id': recommend_id\n",
    "    }\n",
    "\n",
    "    return status"
   ]
  },
  {
   "cell_type": "code",
   "execution_count": 51,
   "id": "65f5dca1",
   "metadata": {},
   "outputs": [
    {
     "name": "stdout",
     "output_type": "stream",
     "text": [
      "========================================\n",
      "This user is an old user\n",
      "========================================\n"
     ]
    },
    {
     "data": {
      "text/plain": [
       "{'user_id': 200,\n",
       " 'recommend_id': array([177593,   3266,   2202,   2239,   3451,   1683, 106642,   1104,\n",
       "          1204,   3200])}"
      ]
     },
     "execution_count": 51,
     "metadata": {},
     "output_type": "execute_result"
    }
   ],
   "source": [
    "# Check recommendations for old users (userId = 200)\n",
    "get_recommendation(user_id = 200,\n",
    "                   n = 10,\n",
    "                   model = algo_best,\n",
    "                   rating_data = rating_data_final)"
   ]
  },
  {
   "cell_type": "code",
   "execution_count": 52,
   "id": "c46936c0",
   "metadata": {},
   "outputs": [],
   "source": [
    "# Load metadata from movies\n",
    "movie_metadata = pd.read_csv('movies.csv', index_col='movieId')"
   ]
  },
  {
   "cell_type": "code",
   "execution_count": 53,
   "id": "c83f1652",
   "metadata": {},
   "outputs": [
    {
     "name": "stdout",
     "output_type": "stream",
     "text": [
      "========================================\n",
      "This user is an old user\n",
      "========================================\n"
     ]
    },
    {
     "data": {
      "text/html": [
       "<div>\n",
       "<style scoped>\n",
       "    .dataframe tbody tr th:only-of-type {\n",
       "        vertical-align: middle;\n",
       "    }\n",
       "\n",
       "    .dataframe tbody tr th {\n",
       "        vertical-align: top;\n",
       "    }\n",
       "\n",
       "    .dataframe thead th {\n",
       "        text-align: right;\n",
       "    }\n",
       "</style>\n",
       "<table border=\"1\" class=\"dataframe\">\n",
       "  <thead>\n",
       "    <tr style=\"text-align: right;\">\n",
       "      <th></th>\n",
       "      <th>title</th>\n",
       "      <th>genres</th>\n",
       "    </tr>\n",
       "    <tr>\n",
       "      <th>movieId</th>\n",
       "      <th></th>\n",
       "      <th></th>\n",
       "    </tr>\n",
       "  </thead>\n",
       "  <tbody>\n",
       "    <tr>\n",
       "      <th>177593</th>\n",
       "      <td>Three Billboards Outside Ebbing, Missouri (2017)</td>\n",
       "      <td>Crime|Drama</td>\n",
       "    </tr>\n",
       "    <tr>\n",
       "      <th>2239</th>\n",
       "      <td>Swept Away (Travolti da un insolito destino ne...</td>\n",
       "      <td>Comedy|Drama</td>\n",
       "    </tr>\n",
       "    <tr>\n",
       "      <th>3451</th>\n",
       "      <td>Guess Who's Coming to Dinner (1967)</td>\n",
       "      <td>Drama</td>\n",
       "    </tr>\n",
       "    <tr>\n",
       "      <th>106642</th>\n",
       "      <td>Day of the Doctor, The (2013)</td>\n",
       "      <td>Adventure|Drama|Sci-Fi</td>\n",
       "    </tr>\n",
       "    <tr>\n",
       "      <th>3266</th>\n",
       "      <td>Man Bites Dog (C'est arrivé près de chez vous)...</td>\n",
       "      <td>Comedy|Crime|Drama|Thriller</td>\n",
       "    </tr>\n",
       "    <tr>\n",
       "      <th>2202</th>\n",
       "      <td>Lifeboat (1944)</td>\n",
       "      <td>Drama|War</td>\n",
       "    </tr>\n",
       "    <tr>\n",
       "      <th>3201</th>\n",
       "      <td>Five Easy Pieces (1970)</td>\n",
       "      <td>Drama</td>\n",
       "    </tr>\n",
       "    <tr>\n",
       "      <th>1217</th>\n",
       "      <td>Ran (1985)</td>\n",
       "      <td>Drama|War</td>\n",
       "    </tr>\n",
       "    <tr>\n",
       "      <th>3022</th>\n",
       "      <td>General, The (1926)</td>\n",
       "      <td>Comedy|War</td>\n",
       "    </tr>\n",
       "    <tr>\n",
       "      <th>1683</th>\n",
       "      <td>Wings of the Dove, The (1997)</td>\n",
       "      <td>Drama|Romance</td>\n",
       "    </tr>\n",
       "  </tbody>\n",
       "</table>\n",
       "</div>"
      ],
      "text/plain": [
       "                                                     title  \\\n",
       "movieId                                                      \n",
       "177593    Three Billboards Outside Ebbing, Missouri (2017)   \n",
       "2239     Swept Away (Travolti da un insolito destino ne...   \n",
       "3451                   Guess Who's Coming to Dinner (1967)   \n",
       "106642                       Day of the Doctor, The (2013)   \n",
       "3266     Man Bites Dog (C'est arrivé près de chez vous)...   \n",
       "2202                                       Lifeboat (1944)   \n",
       "3201                               Five Easy Pieces (1970)   \n",
       "1217                                            Ran (1985)   \n",
       "3022                                   General, The (1926)   \n",
       "1683                         Wings of the Dove, The (1997)   \n",
       "\n",
       "                              genres  \n",
       "movieId                               \n",
       "177593                   Crime|Drama  \n",
       "2239                    Comedy|Drama  \n",
       "3451                           Drama  \n",
       "106642        Adventure|Drama|Sci-Fi  \n",
       "3266     Comedy|Crime|Drama|Thriller  \n",
       "2202                       Drama|War  \n",
       "3201                           Drama  \n",
       "1217                       Drama|War  \n",
       "3022                      Comedy|War  \n",
       "1683                   Drama|Romance  "
      ]
     },
     "execution_count": 53,
     "metadata": {},
     "output_type": "execute_result"
    }
   ],
   "source": [
    "# Check recommendations for old users (userId = 32)\n",
    "status = get_recommendation(user_id = 32,\n",
    "                            n = 10,\n",
    "                            model = algo_best,\n",
    "                            rating_data = rating_data_final)\n",
    "\n",
    "# Search for movie metadata\n",
    "movie_metadata.loc[status['recommend_id']]"
   ]
  },
  {
   "cell_type": "code",
   "execution_count": 54,
   "id": "e6d5cd4c",
   "metadata": {},
   "outputs": [
    {
     "name": "stdout",
     "output_type": "stream",
     "text": [
      "========================================\n",
      "This user is a new user\n",
      "========================================\n"
     ]
    },
    {
     "data": {
      "text/html": [
       "<div>\n",
       "<style scoped>\n",
       "    .dataframe tbody tr th:only-of-type {\n",
       "        vertical-align: middle;\n",
       "    }\n",
       "\n",
       "    .dataframe tbody tr th {\n",
       "        vertical-align: top;\n",
       "    }\n",
       "\n",
       "    .dataframe thead th {\n",
       "        text-align: right;\n",
       "    }\n",
       "</style>\n",
       "<table border=\"1\" class=\"dataframe\">\n",
       "  <thead>\n",
       "    <tr style=\"text-align: right;\">\n",
       "      <th></th>\n",
       "      <th>title</th>\n",
       "      <th>genres</th>\n",
       "    </tr>\n",
       "    <tr>\n",
       "      <th>movieId</th>\n",
       "      <th></th>\n",
       "      <th></th>\n",
       "    </tr>\n",
       "  </thead>\n",
       "  <tbody>\n",
       "    <tr>\n",
       "      <th>356</th>\n",
       "      <td>Forrest Gump (1994)</td>\n",
       "      <td>Comedy|Drama|Romance|War</td>\n",
       "    </tr>\n",
       "    <tr>\n",
       "      <th>318</th>\n",
       "      <td>Shawshank Redemption, The (1994)</td>\n",
       "      <td>Crime|Drama</td>\n",
       "    </tr>\n",
       "    <tr>\n",
       "      <th>296</th>\n",
       "      <td>Pulp Fiction (1994)</td>\n",
       "      <td>Comedy|Crime|Drama|Thriller</td>\n",
       "    </tr>\n",
       "    <tr>\n",
       "      <th>593</th>\n",
       "      <td>Silence of the Lambs, The (1991)</td>\n",
       "      <td>Crime|Horror|Thriller</td>\n",
       "    </tr>\n",
       "    <tr>\n",
       "      <th>2571</th>\n",
       "      <td>Matrix, The (1999)</td>\n",
       "      <td>Action|Sci-Fi|Thriller</td>\n",
       "    </tr>\n",
       "    <tr>\n",
       "      <th>260</th>\n",
       "      <td>Star Wars: Episode IV - A New Hope (1977)</td>\n",
       "      <td>Action|Adventure|Sci-Fi</td>\n",
       "    </tr>\n",
       "    <tr>\n",
       "      <th>480</th>\n",
       "      <td>Jurassic Park (1993)</td>\n",
       "      <td>Action|Adventure|Sci-Fi|Thriller</td>\n",
       "    </tr>\n",
       "    <tr>\n",
       "      <th>110</th>\n",
       "      <td>Braveheart (1995)</td>\n",
       "      <td>Action|Drama|War</td>\n",
       "    </tr>\n",
       "    <tr>\n",
       "      <th>589</th>\n",
       "      <td>Terminator 2: Judgment Day (1991)</td>\n",
       "      <td>Action|Sci-Fi</td>\n",
       "    </tr>\n",
       "    <tr>\n",
       "      <th>527</th>\n",
       "      <td>Schindler's List (1993)</td>\n",
       "      <td>Drama|War</td>\n",
       "    </tr>\n",
       "  </tbody>\n",
       "</table>\n",
       "</div>"
      ],
      "text/plain": [
       "                                             title  \\\n",
       "movieId                                              \n",
       "356                            Forrest Gump (1994)   \n",
       "318               Shawshank Redemption, The (1994)   \n",
       "296                            Pulp Fiction (1994)   \n",
       "593               Silence of the Lambs, The (1991)   \n",
       "2571                            Matrix, The (1999)   \n",
       "260      Star Wars: Episode IV - A New Hope (1977)   \n",
       "480                           Jurassic Park (1993)   \n",
       "110                              Braveheart (1995)   \n",
       "589              Terminator 2: Judgment Day (1991)   \n",
       "527                        Schindler's List (1993)   \n",
       "\n",
       "                                   genres  \n",
       "movieId                                    \n",
       "356              Comedy|Drama|Romance|War  \n",
       "318                           Crime|Drama  \n",
       "296           Comedy|Crime|Drama|Thriller  \n",
       "593                 Crime|Horror|Thriller  \n",
       "2571               Action|Sci-Fi|Thriller  \n",
       "260               Action|Adventure|Sci-Fi  \n",
       "480      Action|Adventure|Sci-Fi|Thriller  \n",
       "110                      Action|Drama|War  \n",
       "589                         Action|Sci-Fi  \n",
       "527                             Drama|War  "
      ]
     },
     "execution_count": 54,
     "metadata": {},
     "output_type": "execute_result"
    }
   ],
   "source": [
    "# Check recommendations for new users (userId = 1500)\n",
    "status = get_recommendation(user_id = 1500,\n",
    "                            n = 10,\n",
    "                            model = algo_best,\n",
    "                            rating_data = rating_data_final)\n",
    "\n",
    "# Cari movie metadata\n",
    "movie_metadata.loc[status['recommend_id']]"
   ]
  },
  {
   "cell_type": "markdown",
   "id": "7dfd2eb1",
   "metadata": {},
   "source": [
    "---\n",
    "\n",
    "🚀 **It's a Wrap!**\n",
    "\n",
    "Congratulations on completing the Hybrid Recommendation System notebook! 🎉 You've learned how to tackle the challenge of recommending movies to both new and existing users using a combination of non-personalized and collaborative filtering approaches. \n",
    "\n",
    "🎥 Remember, understanding user preferences and providing accurate recommendations are key in enhancing user experience and engagement. Keep exploring new techniques and datasets to further improve your recommendation systems!\n",
    "\n",
    "🌟 Thank you for joining me on this journey. Happy recommending! 😊🍿\n",
    "\n",
    "---"
   ]
  }
 ],
 "metadata": {
  "kernelspec": {
   "display_name": "Python 3 (ipykernel)",
   "language": "python",
   "name": "python3"
  },
  "language_info": {
   "codemirror_mode": {
    "name": "ipython",
    "version": 3
   },
   "file_extension": ".py",
   "mimetype": "text/x-python",
   "name": "python",
   "nbconvert_exporter": "python",
   "pygments_lexer": "ipython3",
   "version": "3.11.9"
  }
 },
 "nbformat": 4,
 "nbformat_minor": 5
}
