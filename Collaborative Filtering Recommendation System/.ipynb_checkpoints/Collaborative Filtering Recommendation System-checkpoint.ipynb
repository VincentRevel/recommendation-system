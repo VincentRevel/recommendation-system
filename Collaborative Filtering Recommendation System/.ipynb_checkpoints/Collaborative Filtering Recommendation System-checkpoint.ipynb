{
 "cells": [
  {
   "cell_type": "markdown",
   "id": "a1740835",
   "metadata": {},
   "source": [
    "# A Journey into Recommendation Systems\n",
    "\n",
    "Welcome to my notebook, where I dive into the fascinating world of recommendation systems using movies data! 🎬🍿\n",
    "\n",
    "This notebook is not just about data analysis; it's a thrilling adventure through the realms of machine learning and artificial intelligence, all in the context of everyone's favorite streaming platform.\n",
    "\n",
    "- We will build collaborative filtering based on the MoiveLens dataset.\n",
    "- The dataset contains 100,000 ratings of 9,000 movies by 600 users.\n",
    "\n",
    "As I navigate through the dataset, my goal is to uncover hidden patterns, reveal interesting insights, and ultimately build a content recommendation engine that rivals Netflix's own! Join me on this exciting journey as we explore the magic behind personalized recommendations.\n",
    "\n",
    "So grab your popcorn, sit back, and let's embark on this adventure together! Who knows, by the end of this notebook, you might just discover your next favorite show. 😉\n",
    "\n",
    "Let's get started!"
   ]
  },
  {
   "cell_type": "markdown",
   "id": "fec21baf",
   "metadata": {},
   "source": [
    "## 1. Import"
   ]
  },
  {
   "cell_type": "code",
   "execution_count": 1,
   "id": "bb689e37",
   "metadata": {},
   "outputs": [],
   "source": [
    "import pandas as pd"
   ]
  },
  {
   "cell_type": "code",
   "execution_count": 3,
   "id": "83f9f5ab",
   "metadata": {
    "scrolled": true
   },
   "outputs": [
    {
     "data": {
      "text/html": [
       "<div>\n",
       "<style scoped>\n",
       "    .dataframe tbody tr th:only-of-type {\n",
       "        vertical-align: middle;\n",
       "    }\n",
       "\n",
       "    .dataframe tbody tr th {\n",
       "        vertical-align: top;\n",
       "    }\n",
       "\n",
       "    .dataframe thead th {\n",
       "        text-align: right;\n",
       "    }\n",
       "</style>\n",
       "<table border=\"1\" class=\"dataframe\">\n",
       "  <thead>\n",
       "    <tr style=\"text-align: right;\">\n",
       "      <th></th>\n",
       "      <th>userId</th>\n",
       "      <th>movieId</th>\n",
       "      <th>rating</th>\n",
       "      <th>timestamp</th>\n",
       "    </tr>\n",
       "  </thead>\n",
       "  <tbody>\n",
       "    <tr>\n",
       "      <th>0</th>\n",
       "      <td>1</td>\n",
       "      <td>1</td>\n",
       "      <td>4.0</td>\n",
       "      <td>964982703</td>\n",
       "    </tr>\n",
       "    <tr>\n",
       "      <th>1</th>\n",
       "      <td>1</td>\n",
       "      <td>3</td>\n",
       "      <td>4.0</td>\n",
       "      <td>964981247</td>\n",
       "    </tr>\n",
       "    <tr>\n",
       "      <th>2</th>\n",
       "      <td>1</td>\n",
       "      <td>6</td>\n",
       "      <td>4.0</td>\n",
       "      <td>964982224</td>\n",
       "    </tr>\n",
       "    <tr>\n",
       "      <th>3</th>\n",
       "      <td>1</td>\n",
       "      <td>47</td>\n",
       "      <td>5.0</td>\n",
       "      <td>964983815</td>\n",
       "    </tr>\n",
       "    <tr>\n",
       "      <th>4</th>\n",
       "      <td>1</td>\n",
       "      <td>50</td>\n",
       "      <td>5.0</td>\n",
       "      <td>964982931</td>\n",
       "    </tr>\n",
       "  </tbody>\n",
       "</table>\n",
       "</div>"
      ],
      "text/plain": [
       "   userId  movieId  rating  timestamp\n",
       "0       1        1     4.0  964982703\n",
       "1       1        3     4.0  964981247\n",
       "2       1        6     4.0  964982224\n",
       "3       1       47     5.0  964983815\n",
       "4       1       50     5.0  964982931"
      ]
     },
     "execution_count": 3,
     "metadata": {},
     "output_type": "execute_result"
    }
   ],
   "source": [
    "rating_data = pd.read_csv('ratings.csv')\n",
    "\n",
    "rating_data.head()"
   ]
  },
  {
   "cell_type": "markdown",
   "id": "8a192933",
   "metadata": {},
   "source": [
    "- It can be seen that there are several features in this data\n",
    "\n",
    "|feature|description|\n",
    "|:--|:--|\n",
    "|`userId`|User ID|\n",
    "|`movieId`|Movie ID|\n",
    "|`rating`|The rating assigned by user-id x to movie-id i|\n",
    "|`timestamp`|Timestamp of recording the rating given by the user to the movie|"
   ]
  },
  {
   "cell_type": "code",
   "execution_count": 4,
   "id": "c4f2bba6",
   "metadata": {},
   "outputs": [
    {
     "data": {
      "text/plain": [
       "(100836, 4)"
      ]
     },
     "execution_count": 4,
     "metadata": {},
     "output_type": "execute_result"
    }
   ],
   "source": [
    "rating_data.shape"
   ]
  },
  {
   "cell_type": "markdown",
   "id": "9541c344",
   "metadata": {},
   "source": [
    "- It can be seen that there are 100,000 ratings given to the dataset."
   ]
  },
  {
   "cell_type": "markdown",
   "id": "7a446808",
   "metadata": {},
   "source": [
    "## 2. EDA"
   ]
  },
  {
   "cell_type": "code",
   "execution_count": 6,
   "id": "508c8606",
   "metadata": {},
   "outputs": [],
   "source": [
    "import matplotlib.pyplot as plt\n",
    "import seaborn as sns"
   ]
  },
  {
   "cell_type": "markdown",
   "id": "cca2ac08",
   "metadata": {},
   "source": [
    "---\n",
    "### 2.1 Visualization of rating distribution"
   ]
  },
  {
   "cell_type": "code",
   "execution_count": 8,
   "id": "33fe1430",
   "metadata": {},
   "outputs": [
    {
     "data": {
      "text/plain": [
       "rating\n",
       "0.5    0.013586\n",
       "1.0    0.027877\n",
       "1.5    0.017762\n",
       "2.0    0.074884\n",
       "2.5    0.055040\n",
       "3.0    0.198808\n",
       "3.5    0.130271\n",
       "4.0    0.265957\n",
       "4.5    0.084801\n",
       "5.0    0.131015\n",
       "Name: proportion, dtype: float64"
      ]
     },
     "execution_count": 8,
     "metadata": {},
     "output_type": "execute_result"
    }
   ],
   "source": [
    "# Find the rating distribution by wrangling the rating data\n",
    "rating_dist = (\n",
    "    rating_data['rating']           # 1. take rating data\n",
    "    .value_counts(normalize=True)   # 2. Aggregate a certain number of ratings, then find the percentage\n",
    "    .sort_index()                   # 3. Sort the index based on lowest-highest rating\n",
    ")\n",
    "\n",
    "rating_dist"
   ]
  },
  {
   "cell_type": "code",
   "execution_count": 11,
   "id": "124c6ef9",
   "metadata": {},
   "outputs": [
    {
     "data": {
      "image/png": "[encoded data removed]",
      "text/plain": [
       "<Figure size 1000x600 with 1 Axes>"
      ]
     },
     "metadata": {},
     "output_type": "display_data"
    }
   ],
   "source": [
    "# Set the style of the plot\n",
    "sns.set_style(\"whitegrid\")\n",
    "\n",
    "# Create the bar plot\n",
    "plt.figure(figsize=(10, 6))\n",
    "sns.barplot(x=rating_dist.index, y=rating_dist*100, palette=\"viridis\")\n",
    "\n",
    "# Add labels and title\n",
    "plt.xlabel('Rating')\n",
    "plt.ylabel('% Number of Ratings')\n",
    "plt.title('Percentage Distribution of Ratings per Rating Value')\n",
    "\n",
    "# Show plot\n",
    "plt.show()"
   ]
  },
  {
   "cell_type": "markdown",
   "id": "5e895701",
   "metadata": {},
   "source": [
    "**Insight**\n",
    "- It can be seen that the majority of films are given a rating above 3.0\n",
    "- There are less than 10% of films that get a small rating (<2.0)"
   ]
  },
  {
   "cell_type": "markdown",
   "id": "ab763502",
   "metadata": {},
   "source": [
    "---\n",
    "### 2.2 Visualisasi distribusi movie"
   ]
  },
  {
   "cell_type": "code",
   "execution_count": 12,
   "id": "1e9a06f9",
   "metadata": {},
   "outputs": [
    {
     "data": {
      "text/plain": [
       "movieId\n",
       "356       329\n",
       "318       317\n",
       "296       307\n",
       "593       279\n",
       "2571      278\n",
       "         ... \n",
       "70015       1\n",
       "71438       1\n",
       "81681       1\n",
       "82684       1\n",
       "163981      1\n",
       "Name: count, Length: 9724, dtype: int64"
      ]
     },
     "execution_count": 12,
     "metadata": {},
     "output_type": "execute_result"
    }
   ],
   "source": [
    "movie_rating = (\n",
    "    rating_data['movieId']         # 1. select movieId\n",
    "    .value_counts()                # 2. count how many movieIds appear -> how many movieIds are rated\n",
    "    .sort_values(ascending=False)  # 3. Sort by movieId with the most ratings\n",
    ")\n",
    "\n",
    "movie_rating"
   ]
  },
  {
   "cell_type": "code",
   "execution_count": 13,
   "id": "cf06b5e6",
   "metadata": {},
   "outputs": [
    {
     "data": {
      "image/png": "[encoded data removed]",
      "text/plain": [
       "<Figure size 640x480 with 1 Axes>"
      ]
     },
     "metadata": {},
     "output_type": "display_data"
    }
   ],
   "source": [
    "# Then we visualize it to make it easier to read\n",
    "# Visualization using histogram\n",
    "sns.histplot(data=movie_rating, bins=50)\n",
    "\n",
    "# Add visualization trinkets\n",
    "plt.xlabel('number of ratings')\n",
    "plt.ylabel('frequency')\n",
    "plt.title('Distribution of total ratings for each movie')\n",
    "\n",
    "plt.show();"
   ]
  },
  {
   "cell_type": "markdown",
   "id": "0cf263bc",
   "metadata": {},
   "source": [
    "**Insight**\n",
    "- Distribution skewed to the right -> There are many films with low ratings\n",
    "- We can filter movie data whose ratings are too small so that they do not appear as recommendations."
   ]
  },
  {
   "cell_type": "markdown",
   "id": "de0d1898",
   "metadata": {},
   "source": [
    "---\n",
    "### 2.3 Visualization of the distribution of users who provide ratings"
   ]
  },
  {
   "cell_type": "code",
   "execution_count": 16,
   "id": "00d0cec2",
   "metadata": {},
   "outputs": [
    {
     "data": {
      "text/plain": [
       "userId\n",
       "414    2698\n",
       "599    2478\n",
       "474    2108\n",
       "448    1864\n",
       "274    1346\n",
       "       ... \n",
       "147      20\n",
       "207      20\n",
       "189      20\n",
       "595      20\n",
       "53       20\n",
       "Name: count, Length: 610, dtype: int64"
      ]
     },
     "execution_count": 16,
     "metadata": {},
     "output_type": "execute_result"
    }
   ],
   "source": [
    "user_rating = (\n",
    "     rating_data['userId']         # 1. select userId\n",
    "     .value_counts()               # 2. count how many userIds appeared -> how many userIds rated\n",
    "     .sort_values(ascending=False) # 3. sort from the userId with the highest number of ratings\n",
    ")\n",
    "\n",
    "user_rating"
   ]
  },
  {
   "cell_type": "code",
   "execution_count": 17,
   "id": "7e4d9403",
   "metadata": {},
   "outputs": [
    {
     "data": {
      "image/png": "[encoded data removed]",
      "text/plain": [
       "<Figure size 640x480 with 1 Axes>"
      ]
     },
     "metadata": {},
     "output_type": "display_data"
    }
   ],
   "source": [
    "# Visualization using histogram\n",
    "sns.histplot(data=user_rating, bins=50)\n",
    "\n",
    "# Add visualization trinkets\n",
    "plt.xlabel('number of ratings given by user')\n",
    "plt.ylabel('frequency')\n",
    "plt.title('Distribution of the number of ratings given by each user')\n",
    "\n",
    "plt.show();"
   ]
  },
  {
   "cell_type": "markdown",
   "id": "00cc3ad5",
   "metadata": {},
   "source": [
    "**Insight**\n",
    "- Distribution skewed to the right -> there are some ambitious users (who give a lot of ratings), but most users give ratings for < 500 movies\n",
    "- We can filter user data with few ratings, so that it is more relevant in producing recommendations."
   ]
  },
  {
   "cell_type": "markdown",
   "id": "41c56671",
   "metadata": {},
   "source": [
    "---\n",
    "## 3. Wrangling Data"
   ]
  },
  {
   "cell_type": "markdown",
   "id": "0048d7de",
   "metadata": {},
   "source": [
    "- In this section, we will clean the data based on the EDA results above\n",
    "- What we clean is\n",
    "   - MovieIds that receive ratings < 5\n",
    "   - UserId who gave a rating < 5 movieId"
   ]
  },
  {
   "cell_type": "code",
   "execution_count": 18,
   "id": "7423ae4d",
   "metadata": {},
   "outputs": [],
   "source": [
    "min_ratings = 5         # minimum number of ratings each movieId receives\n",
    "min_user_ratings = 5    # minimum number of movieIds given a rating by the user"
   ]
  },
  {
   "cell_type": "code",
   "execution_count": 19,
   "id": "726cb1bb",
   "metadata": {},
   "outputs": [
    {
     "data": {
      "text/plain": [
       "[356, 318, 296, 593, 2571, 260, 480, 110, 589, 527]"
      ]
     },
     "execution_count": 19,
     "metadata": {},
     "output_type": "execute_result"
    }
   ],
   "source": [
    "# Look for movieIds whose total ratings are > min_ratings\n",
    "cond_movie = rating_data['movieId'].value_counts() > min_ratings\n",
    "\n",
    "# Output the filtered movie_id\n",
    "filtered_movie_id = (\n",
    "     cond_movie[cond_movie] # 1. filter movieId that meets the conditions above\n",
    "     .index                 # 2. extract its movieId (its index)\n",
    "     .tolist()              # 3. then save it in a list\n",
    ")\n",
    "\n",
    "# Show results for the first 10 movieIds\n",
    "filtered_movie_id[:10]"
   ]
  },
  {
   "cell_type": "code",
   "execution_count": 20,
   "id": "fa1377b0",
   "metadata": {},
   "outputs": [
    {
     "data": {
      "text/plain": [
       "[414, 599, 474, 448, 274, 610, 68, 380, 606, 288]"
      ]
     },
     "execution_count": 20,
     "metadata": {},
     "output_type": "execute_result"
    }
   ],
   "source": [
    "# Look for a userId whose total rating is > min_user_ratings\n",
    "cond_user = rating_data['userId'].value_counts() > min_user_ratings\n",
    "\n",
    "# Output the filtered movie_id\n",
    "filtered_user_id = (\n",
    "     cond_user[cond_user] # 1. filter userIds that meet the conditions above\n",
    "     .index               # 2. extract its userId (its index)\n",
    "     .tolist()            # 3. then save it in a list\n",
    ")\n",
    "\n",
    "# Show results for the first 10 userIds\n",
    "filtered_user_id[:10]"
   ]
  },
  {
   "cell_type": "code",
   "execution_count": 21,
   "id": "0bf99ea9",
   "metadata": {},
   "outputs": [
    {
     "data": {
      "text/html": [
       "<div>\n",
       "<style scoped>\n",
       "    .dataframe tbody tr th:only-of-type {\n",
       "        vertical-align: middle;\n",
       "    }\n",
       "\n",
       "    .dataframe tbody tr th {\n",
       "        vertical-align: top;\n",
       "    }\n",
       "\n",
       "    .dataframe thead th {\n",
       "        text-align: right;\n",
       "    }\n",
       "</style>\n",
       "<table border=\"1\" class=\"dataframe\">\n",
       "  <thead>\n",
       "    <tr style=\"text-align: right;\">\n",
       "      <th></th>\n",
       "      <th>userId</th>\n",
       "      <th>movieId</th>\n",
       "      <th>rating</th>\n",
       "      <th>timestamp</th>\n",
       "    </tr>\n",
       "  </thead>\n",
       "  <tbody>\n",
       "    <tr>\n",
       "      <th>0</th>\n",
       "      <td>1</td>\n",
       "      <td>1</td>\n",
       "      <td>4.0</td>\n",
       "      <td>964982703</td>\n",
       "    </tr>\n",
       "    <tr>\n",
       "      <th>1</th>\n",
       "      <td>1</td>\n",
       "      <td>3</td>\n",
       "      <td>4.0</td>\n",
       "      <td>964981247</td>\n",
       "    </tr>\n",
       "    <tr>\n",
       "      <th>2</th>\n",
       "      <td>1</td>\n",
       "      <td>6</td>\n",
       "      <td>4.0</td>\n",
       "      <td>964982224</td>\n",
       "    </tr>\n",
       "    <tr>\n",
       "      <th>3</th>\n",
       "      <td>1</td>\n",
       "      <td>47</td>\n",
       "      <td>5.0</td>\n",
       "      <td>964983815</td>\n",
       "    </tr>\n",
       "    <tr>\n",
       "      <th>4</th>\n",
       "      <td>1</td>\n",
       "      <td>50</td>\n",
       "      <td>5.0</td>\n",
       "      <td>964982931</td>\n",
       "    </tr>\n",
       "    <tr>\n",
       "      <th>...</th>\n",
       "      <td>...</td>\n",
       "      <td>...</td>\n",
       "      <td>...</td>\n",
       "      <td>...</td>\n",
       "    </tr>\n",
       "    <tr>\n",
       "      <th>100830</th>\n",
       "      <td>610</td>\n",
       "      <td>166528</td>\n",
       "      <td>4.0</td>\n",
       "      <td>1493879365</td>\n",
       "    </tr>\n",
       "    <tr>\n",
       "      <th>100831</th>\n",
       "      <td>610</td>\n",
       "      <td>166534</td>\n",
       "      <td>4.0</td>\n",
       "      <td>1493848402</td>\n",
       "    </tr>\n",
       "    <tr>\n",
       "      <th>100832</th>\n",
       "      <td>610</td>\n",
       "      <td>168248</td>\n",
       "      <td>5.0</td>\n",
       "      <td>1493850091</td>\n",
       "    </tr>\n",
       "    <tr>\n",
       "      <th>100833</th>\n",
       "      <td>610</td>\n",
       "      <td>168250</td>\n",
       "      <td>5.0</td>\n",
       "      <td>1494273047</td>\n",
       "    </tr>\n",
       "    <tr>\n",
       "      <th>100834</th>\n",
       "      <td>610</td>\n",
       "      <td>168252</td>\n",
       "      <td>5.0</td>\n",
       "      <td>1493846352</td>\n",
       "    </tr>\n",
       "  </tbody>\n",
       "</table>\n",
       "<p>88364 rows × 4 columns</p>\n",
       "</div>"
      ],
      "text/plain": [
       "        userId  movieId  rating   timestamp\n",
       "0            1        1     4.0   964982703\n",
       "1            1        3     4.0   964981247\n",
       "2            1        6     4.0   964982224\n",
       "3            1       47     5.0   964983815\n",
       "4            1       50     5.0   964982931\n",
       "...        ...      ...     ...         ...\n",
       "100830     610   166528     4.0  1493879365\n",
       "100831     610   166534     4.0  1493848402\n",
       "100832     610   168248     5.0  1493850091\n",
       "100833     610   168250     5.0  1494273047\n",
       "100834     610   168252     5.0  1493846352\n",
       "\n",
       "[88364 rows x 4 columns]"
      ]
     },
     "execution_count": 21,
     "metadata": {},
     "output_type": "execute_result"
    }
   ],
   "source": [
    "# Create the final dataset based on the conditions above\n",
    "rating_data_final = (\n",
    "     rating_data[                                         # Filter rating data complies\n",
    "         (rating_data['movieId'].isin(filtered_movie_id)) # cond 1: corresponding movie Id filtered_movie_id\n",
    "         &                                                # AND\n",
    "         (rating_data['userId'].isin(filtered_user_id))   # cond 2: corresponding user Id filtered_user_id\n",
    "     ]\n",
    ")\n",
    "\n",
    "rating_data_final"
   ]
  },
  {
   "cell_type": "markdown",
   "id": "aad60013",
   "metadata": {},
   "source": [
    "Seen from 100,000 rating data, now we have ~90,000 rating data"
   ]
  },
  {
   "cell_type": "markdown",
   "id": "8d582f72",
   "metadata": {},
   "source": [
    "## 4. Making the Collaborative Filtering"
   ]
  },
  {
   "cell_type": "markdown",
   "id": "beafb760",
   "metadata": {},
   "source": [
    "- To create a collaborative filtering model, we will use a library [Surprise](https://surpriselib.com/) <br> <br>\n",
    "<center>\n",
    "<img src=\"https://surpriselib.com/logo_black.svg\" width=300>\n",
    "    \n",
    "### Library Comparison for Collaborative Filtering\n",
    "\n",
    "| Library               | Advantages                                                      | Disadvantages                                                  |\n",
    "|-----------------------|-----------------------------------------------------------------|----------------------------------------------------------------|\n",
    "| **Surprise**          | Easy to use, various algorithms available                     | Limited scalability, may require custom implementation       |\n",
    "| **LightFM**           | Supports implicit and explicit feedback, scalable, flexible   | Requires more effort for setup, may be overkill for simple tasks |\n",
    "| **TensorFlow Recommenders** | Integrates with TensorFlow, supports complex models       | Requires TensorFlow knowledge, more complex setup              |\n",
    "| **Implicit**          | Designed for implicit feedback, fast, scalable                | Limited support for explicit feedback, less extensive documentation |\n",
    "| **SurpriseMe**        | Simple, easy to use, provides various algorithms              | Limited scalability, less flexibility                        |\n"
   ]
  },
  {
   "cell_type": "code",
   "execution_count": 30,
   "id": "12273480",
   "metadata": {},
   "outputs": [
    {
     "name": "stdout",
     "output_type": "stream",
     "text": [
      "Requirement already satisfied: scikit-surprise in c:\\users\\vince\\anaconda3\\lib\\site-packages (1.1.3)\n",
      "Requirement already satisfied: joblib>=1.0.0 in c:\\users\\vince\\anaconda3\\lib\\site-packages (from scikit-surprise) (1.2.0)\n",
      "Requirement already satisfied: numpy>=1.17.3 in c:\\users\\vince\\anaconda3\\lib\\site-packages (from scikit-surprise) (1.26.4)\n",
      "Requirement already satisfied: scipy>=1.3.2 in c:\\users\\vince\\anaconda3\\lib\\site-packages (from scikit-surprise) (1.12.0)\n"
     ]
    }
   ],
   "source": [
    "!pip install scikit-surprise"
   ]
  },
  {
   "cell_type": "code",
   "execution_count": 31,
   "id": "7b1b465c",
   "metadata": {},
   "outputs": [],
   "source": [
    "from surprise import Reader, Dataset"
   ]
  },
  {
   "cell_type": "code",
   "execution_count": 32,
   "id": "55ee1d56",
   "metadata": {},
   "outputs": [],
   "source": [
    "# Create a reader object\n",
    "reader = Reader(rating_scale=(1, 5)) # Define the rating scale. We use a scale of 1-5\n",
    "\n",
    "# Create a data object\n",
    "# This object was created to enable cross-validation of the model\n",
    "data = Dataset.load_from_df(df = rating_data_final[['userId', 'movieId', 'rating']], # Insert data\n",
    "                             reader = reader) # Enter reader"
   ]
  },
  {
   "cell_type": "markdown",
   "id": "5f24ca85",
   "metadata": {},
   "source": [
    "---\n",
    "### 4.1 Model Baseline"
   ]
  },
  {
   "cell_type": "markdown",
   "id": "cc94fe56",
   "metadata": {},
   "source": [
    "- This is the simplest prediction model\n",
    "- Each rating of a movie will be predicted as the average rating of all movies in the dataset\n",
    "- Perform **cross validation** to determine model performance when predicting on data that is not used for learning.\n",
    "- The worse the performance of the model resulting from cross validation, the less good the model is."
   ]
  },
  {
   "cell_type": "code",
   "execution_count": 33,
   "id": "1ff75ef5",
   "metadata": {},
   "outputs": [],
   "source": [
    "# Import model baseline\n",
    "from surprise import BaselineOnly\n",
    "\n",
    "# Import cross validation\n",
    "from surprise.model_selection import cross_validate"
   ]
  },
  {
   "cell_type": "code",
   "execution_count": 34,
   "id": "9eb25c38",
   "metadata": {},
   "outputs": [
    {
     "data": {
      "text/plain": [
       "<surprise.prediction_algorithms.baseline_only.BaselineOnly at 0x17c824c2050>"
      ]
     },
     "execution_count": 34,
     "metadata": {},
     "output_type": "execute_result"
    }
   ],
   "source": [
    "# Create a baseline algorithm\n",
    "base_algo = BaselineOnly()\n",
    "base_algo"
   ]
  },
  {
   "cell_type": "markdown",
   "id": "3fd7af67",
   "metadata": {},
   "source": [
    "- Next, we carry out cross validation with the model performance reference being RMSE\n",
    "\n",
    "$$\n",
    "\\text{RMSE}\n",
    "= \\sqrt{\n",
    "    \\cfrac{1}{N}\n",
    "    \\sum_{i=1}^{N}\n",
    "    \\left(\n",
    "        \\hat{r}_{ui} - r_{ui}\n",
    "    \\right)^{2}\n",
    "}\n",
    "$$\n",
    "\n",
    "- Where $r_{ui}$ is the rating given by user-$u$ to item-$i$ and $\\hat{r}$ is the predicted rating"
   ]
  },
  {
   "cell_type": "code",
   "execution_count": 35,
   "id": "9f224c8d",
   "metadata": {},
   "outputs": [
    {
     "name": "stdout",
     "output_type": "stream",
     "text": [
      "Estimating biases using als...\n",
      "Estimating biases using als...\n",
      "Estimating biases using als...\n"
     ]
    },
    {
     "data": {
      "text/plain": [
       "{'test_rmse': array([0.866118  , 0.85602538, 0.86331565]),\n",
       " 'fit_time': (0.1269054412841797, 0.1349656581878662, 0.13848018646240234),\n",
       " 'test_time': (0.0979461669921875, 0.08754539489746094, 0.22049999237060547)}"
      ]
     },
     "execution_count": 35,
     "metadata": {},
     "output_type": "execute_result"
    }
   ],
   "source": [
    "# Carry out modeling with baseline & cross validation algorithms\n",
    "# Use RMSE to measure model performance\n",
    "base_cv = cross_validate(algo = base_algo,     # Enter algorithm\n",
    "                          data = data,         # Enter the data to be trained\n",
    "                          measures = ['RMSE'], # Enter data performance measures\n",
    "                          cv = 3)              # Enter the number of fold-cvs\n",
    "\n",
    "base_cv"
   ]
  },
  {
   "cell_type": "markdown",
   "id": "8f1e8921",
   "metadata": {},
   "source": [
    "- Seen\n",
    "   - Modeling is carried out 3x (as many as the number of `cv`)\n",
    "   - In each modeling, different performance is obtained (see `test_rmse` (model error) and `fit_time` (model training time))\n",
    "\n",
    "- Save this result in `summary_model`"
   ]
  },
  {
   "cell_type": "code",
   "execution_count": 36,
   "id": "884e1dfb",
   "metadata": {},
   "outputs": [
    {
     "data": {
      "text/plain": [
       "array([0.866118  , 0.85602538, 0.86331565])"
      ]
     },
     "execution_count": 36,
     "metadata": {},
     "output_type": "execute_result"
    }
   ],
   "source": [
    "base_cv['test_rmse']"
   ]
  },
  {
   "cell_type": "code",
   "execution_count": 37,
   "id": "52e62375",
   "metadata": {
    "scrolled": true
   },
   "outputs": [
    {
     "data": {
      "text/html": [
       "<div>\n",
       "<style scoped>\n",
       "    .dataframe tbody tr th:only-of-type {\n",
       "        vertical-align: middle;\n",
       "    }\n",
       "\n",
       "    .dataframe tbody tr th {\n",
       "        vertical-align: top;\n",
       "    }\n",
       "\n",
       "    .dataframe thead th {\n",
       "        text-align: right;\n",
       "    }\n",
       "</style>\n",
       "<table border=\"1\" class=\"dataframe\">\n",
       "  <thead>\n",
       "    <tr style=\"text-align: right;\">\n",
       "      <th></th>\n",
       "      <th>algorithm</th>\n",
       "      <th>test_rmse</th>\n",
       "      <th>fit_time</th>\n",
       "    </tr>\n",
       "  </thead>\n",
       "  <tbody>\n",
       "    <tr>\n",
       "      <th>0</th>\n",
       "      <td>BaselineOnly</td>\n",
       "      <td>0.86182</td>\n",
       "      <td>0.13345</td>\n",
       "    </tr>\n",
       "  </tbody>\n",
       "</table>\n",
       "</div>"
      ],
      "text/plain": [
       "      algorithm  test_rmse  fit_time\n",
       "0  BaselineOnly    0.86182   0.13345"
      ]
     },
     "execution_count": 37,
     "metadata": {},
     "output_type": "execute_result"
    }
   ],
   "source": [
    "import numpy as np\n",
    "\n",
    "# First summarize the model performance\n",
    "base_test_rmse = np.mean(base_cv['test_rmse'])\n",
    "base_fit_time = np.mean(base_cv['fit_time'])\n",
    "\n",
    "# Next summarize in summary_model (pandas DataFrame)\n",
    "summary_model = pd.DataFrame(\n",
    "    {'algorithm': ['BaselineOnly'],\n",
    "     'test_rmse': [base_test_rmse],\n",
    "     'fit_time': [base_fit_time]}\n",
    ")\n",
    "\n",
    "summary_model"
   ]
  },
  {
   "cell_type": "markdown",
   "id": "a8729799",
   "metadata": {},
   "source": [
    "---\n",
    "### 4.2 Other Model"
   ]
  },
  {
   "cell_type": "markdown",
   "id": "3088f46d",
   "metadata": {},
   "source": [
    "- Now, we try to explore models that produce better performance than the baseline model.\n",
    "- There are 2 models that we will try\n",
    "   - KNN Inspired (KNNBaseline)\n",
    "   - Matrix Factorization Inspired (SVD)"
   ]
  },
  {
   "cell_type": "code",
   "execution_count": 38,
   "id": "8ca425ca",
   "metadata": {},
   "outputs": [],
   "source": [
    "# For K-NN inspired\n",
    "from surprise import KNNBaseline\n",
    "\n",
    "# For Matrix-Factorization Inspired\n",
    "from surprise import SVD"
   ]
  },
  {
   "cell_type": "code",
   "execution_count": 39,
   "id": "1fc839e7",
   "metadata": {},
   "outputs": [
    {
     "data": {
      "text/plain": [
       "<surprise.prediction_algorithms.knns.KNNBaseline at 0x17c84023e90>"
      ]
     },
     "execution_count": 39,
     "metadata": {},
     "output_type": "execute_result"
    }
   ],
   "source": [
    "### KNNBasic\n",
    "knn_algo = KNNBaseline()\n",
    "knn_algo"
   ]
  },
  {
   "cell_type": "code",
   "execution_count": 41,
   "id": "53e4e267",
   "metadata": {},
   "outputs": [
    {
     "name": "stdout",
     "output_type": "stream",
     "text": [
      "Estimating biases using als...\n",
      "Computing the msd similarity matrix...\n",
      "Done computing similarity matrix.\n",
      "Estimating biases using als...\n",
      "Computing the msd similarity matrix...\n",
      "Done computing similarity matrix.\n",
      "Estimating biases using als...\n",
      "Computing the msd similarity matrix...\n",
      "Done computing similarity matrix.\n"
     ]
    },
    {
     "data": {
      "text/plain": [
       "{'test_rmse': array([0.85523247, 0.85314161, 0.85729474]),\n",
       " 'fit_time': (0.20709514617919922, 0.24097323417663574, 0.25661325454711914),\n",
       " 'test_time': (1.8866839408874512, 1.8487610816955566, 1.975024938583374)}"
      ]
     },
     "execution_count": 41,
     "metadata": {},
     "output_type": "execute_result"
    }
   ],
   "source": [
    "# Carry out modeling with the KNNBaseline algorithm & cross validation\n",
    "# Use RMSE to measure model performance\n",
    "knn_cv = cross_validate(algo = knn_algo,      # Enter algorithm\n",
    "                         data = data,         # Enter the data to be trained\n",
    "                         measures = ['RMSE'], # Enter data performance measures\n",
    "                         cv = 3)              # Enter the number of fold-cvs\n",
    "\n",
    "knn_cv"
   ]
  },
  {
   "cell_type": "code",
   "execution_count": 42,
   "id": "c443c973",
   "metadata": {},
   "outputs": [
    {
     "data": {
      "text/html": [
       "<div>\n",
       "<style scoped>\n",
       "    .dataframe tbody tr th:only-of-type {\n",
       "        vertical-align: middle;\n",
       "    }\n",
       "\n",
       "    .dataframe tbody tr th {\n",
       "        vertical-align: top;\n",
       "    }\n",
       "\n",
       "    .dataframe thead th {\n",
       "        text-align: right;\n",
       "    }\n",
       "</style>\n",
       "<table border=\"1\" class=\"dataframe\">\n",
       "  <thead>\n",
       "    <tr style=\"text-align: right;\">\n",
       "      <th></th>\n",
       "      <th>algorithm</th>\n",
       "      <th>test_rmse</th>\n",
       "      <th>fit_time</th>\n",
       "    </tr>\n",
       "  </thead>\n",
       "  <tbody>\n",
       "    <tr>\n",
       "      <th>0</th>\n",
       "      <td>BaselineOnly</td>\n",
       "      <td>0.861820</td>\n",
       "      <td>0.133450</td>\n",
       "    </tr>\n",
       "    <tr>\n",
       "      <th>0</th>\n",
       "      <td>KNNBaseline</td>\n",
       "      <td>0.855223</td>\n",
       "      <td>0.234894</td>\n",
       "    </tr>\n",
       "  </tbody>\n",
       "</table>\n",
       "</div>"
      ],
      "text/plain": [
       "      algorithm  test_rmse  fit_time\n",
       "0  BaselineOnly   0.861820  0.133450\n",
       "0   KNNBaseline   0.855223  0.234894"
      ]
     },
     "execution_count": 42,
     "metadata": {},
     "output_type": "execute_result"
    }
   ],
   "source": [
    "# First summarize the model performance\n",
    "knn_test_rmse = np.mean(knn_cv['test_rmse'])\n",
    "knn_fit_time = np.mean(knn_cv['fit_time'])\n",
    "\n",
    "# Next summarize in summary_model (pandas DataFrame)\n",
    "summary_knn = pd.DataFrame(\n",
    "     {'algorithm': ['KNNBaseline'],\n",
    "      'test_rmse': [knn_test_rmse],\n",
    "      'fit_time': [knn_fit_time]}\n",
    ")\n",
    "summary_model = pd.concat((summary_model, summary_knn))\n",
    "\n",
    "summary_model"
   ]
  },
  {
   "cell_type": "code",
   "execution_count": 43,
   "id": "641de98a",
   "metadata": {},
   "outputs": [
    {
     "data": {
      "text/plain": [
       "<surprise.prediction_algorithms.matrix_factorization.SVD at 0x17c85bd48d0>"
      ]
     },
     "execution_count": 43,
     "metadata": {},
     "output_type": "execute_result"
    }
   ],
   "source": [
    "svd_algo = SVD()\n",
    "svd_algo"
   ]
  },
  {
   "cell_type": "code",
   "execution_count": 44,
   "id": "7a63823e",
   "metadata": {},
   "outputs": [
    {
     "data": {
      "text/plain": [
       "{'test_rmse': array([0.86463053, 0.86279084, 0.86285882]),\n",
       " 'fit_time': (0.5872061252593994, 0.5985825061798096, 0.6117713451385498),\n",
       " 'test_time': (0.17087507247924805, 0.1672990322113037, 0.29939961433410645)}"
      ]
     },
     "execution_count": 44,
     "metadata": {},
     "output_type": "execute_result"
    }
   ],
   "source": [
    "# Carry out modeling with the SVD algorithm & cross validation\n",
    "# Use RMSE to measure model performance\n",
    "svd_cv = cross_validate(algo = svd_algo,      # Enter algorithm\n",
    "                         data = data,         # Enter the data to be trained\n",
    "                         measures = ['RMSE'], # Enter data performance measures\n",
    "                         cv = 3)              # Enter the number of fold-cvs\n",
    "\n",
    "svd_cv"
   ]
  },
  {
   "cell_type": "code",
   "execution_count": 45,
   "id": "f4fa1b1f",
   "metadata": {},
   "outputs": [
    {
     "data": {
      "text/html": [
       "<div>\n",
       "<style scoped>\n",
       "    .dataframe tbody tr th:only-of-type {\n",
       "        vertical-align: middle;\n",
       "    }\n",
       "\n",
       "    .dataframe tbody tr th {\n",
       "        vertical-align: top;\n",
       "    }\n",
       "\n",
       "    .dataframe thead th {\n",
       "        text-align: right;\n",
       "    }\n",
       "</style>\n",
       "<table border=\"1\" class=\"dataframe\">\n",
       "  <thead>\n",
       "    <tr style=\"text-align: right;\">\n",
       "      <th></th>\n",
       "      <th>algorithm</th>\n",
       "      <th>test_rmse</th>\n",
       "      <th>fit_time</th>\n",
       "    </tr>\n",
       "  </thead>\n",
       "  <tbody>\n",
       "    <tr>\n",
       "      <th>0</th>\n",
       "      <td>BaselineOnly</td>\n",
       "      <td>0.861820</td>\n",
       "      <td>0.133450</td>\n",
       "    </tr>\n",
       "    <tr>\n",
       "      <th>0</th>\n",
       "      <td>KNNBaseline</td>\n",
       "      <td>0.855223</td>\n",
       "      <td>0.234894</td>\n",
       "    </tr>\n",
       "    <tr>\n",
       "      <th>0</th>\n",
       "      <td>SVD</td>\n",
       "      <td>0.863427</td>\n",
       "      <td>0.599187</td>\n",
       "    </tr>\n",
       "  </tbody>\n",
       "</table>\n",
       "</div>"
      ],
      "text/plain": [
       "      algorithm  test_rmse  fit_time\n",
       "0  BaselineOnly   0.861820  0.133450\n",
       "0   KNNBaseline   0.855223  0.234894\n",
       "0           SVD   0.863427  0.599187"
      ]
     },
     "execution_count": 45,
     "metadata": {},
     "output_type": "execute_result"
    }
   ],
   "source": [
    "# First summarize the model performance\n",
    "svd_test_rmse = np.mean(svd_cv['test_rmse'])\n",
    "svd_fit_time = np.mean(svd_cv['fit_time'])\n",
    "\n",
    "# Next summarize in summary_model (pandas DataFrame)\n",
    "summary_svd = pd.DataFrame(\n",
    "    {'algorithm': ['SVD'],\n",
    "     'test_rmse': [svd_test_rmse],\n",
    "     'fit_time': [svd_fit_time]}\n",
    ")\n",
    "summary_model = pd.concat((summary_model, summary_svd))\n",
    "\n",
    "summary_model"
   ]
  },
  {
   "cell_type": "markdown",
   "id": "a65b63b9",
   "metadata": {},
   "source": [
    "1. The model with the smallest `test_rmse`  --> the bigger it is, the worse the rating prediction\n",
    "2. The model with the smallest `fit_time`   --> the bigger it is, the longer the training time\n",
    "\n",
    "**Taking into account the fitting time which should not be too long, the best model is KNNBaseline**"
   ]
  },
  {
   "cell_type": "markdown",
   "id": "6870161d",
   "metadata": {},
   "source": [
    "---\n",
    "### 6.3 Retraining Model"
   ]
  },
  {
   "cell_type": "markdown",
   "id": "1e24bc89",
   "metadata": {},
   "source": [
    "After finding the best model, we retrain the model using all the training data we have"
   ]
  },
  {
   "cell_type": "code",
   "execution_count": 46,
   "id": "d7ad5b91",
   "metadata": {},
   "outputs": [
    {
     "name": "stdout",
     "output_type": "stream",
     "text": [
      "Estimating biases using als...\n",
      "Computing the msd similarity matrix...\n",
      "Done computing similarity matrix.\n"
     ]
    },
    {
     "data": {
      "text/plain": [
       "<surprise.prediction_algorithms.knns.KNNBaseline at 0x17c8888fcd0>"
      ]
     },
     "execution_count": 46,
     "metadata": {},
     "output_type": "execute_result"
    }
   ],
   "source": [
    "# Create reader & data object\n",
    "reader = Reader(rating_scale=(1, 5))\n",
    "data = Dataset.load_from_df(df = rating_data_final[['userId', 'movieId', 'rating']],\n",
    "                            reader = reader)\n",
    "\n",
    "# Create a trainset\n",
    "trainset = data.build_full_trainset()\n",
    "\n",
    "# Do training\n",
    "algo_best = KNNBaseline()\n",
    "algo_best.fit(trainset)"
   ]
  },
  {
   "cell_type": "markdown",
   "id": "122b0132",
   "metadata": {},
   "source": [
    "---\n",
    "### 7. Prediction "
   ]
  },
  {
   "cell_type": "markdown",
   "id": "67e8827f",
   "metadata": {},
   "source": [
    "- After the collaborative filtering model is complete, it is time for us to make predictions\n",
    "- According to the definition, collaborative filtering will be able to predict the rating of user-$u$ on item-$i$\n",
    "- We will create a function to make these predictions"
   ]
  },
  {
   "cell_type": "code",
   "execution_count": 48,
   "id": "551ed575",
   "metadata": {},
   "outputs": [],
   "source": [
    "# This is the code to predict the rating that user-u will give to item-i\n",
    "def predict_item_rating(user_id, item_id, model):\n",
    "    \"\"\"\n",
    "    Predict the rating that user-u will give to item-i\n",
    "\n",
    "    Parameters\n",
    "    ----------\n",
    "    user_id : int\n",
    "        User ID\n",
    "\n",
    "    item_id : int\n",
    "        Item ID\n",
    "\n",
    "    model : surprise model\n",
    "        Collaborative filtering model\n",
    "\n",
    "    Returns\n",
    "    -------\n",
    "    dict\n",
    "        A dictionary containing the user ID, item ID, predicted rating, and prediction details\n",
    "    \"\"\"\n",
    "    # Perform prediction\n",
    "    pred = model.predict(uid=user_id, iid=item_id)\n",
    "\n",
    "    # Extract prediction result\n",
    "    return {\n",
    "        'user': user_id,\n",
    "        'item': item_id,\n",
    "        'rating_pred': np.round(pred.est, 1),\n",
    "        'details': pred.details\n",
    "    }"
   ]
  },
  {
   "cell_type": "code",
   "execution_count": 49,
   "id": "578c2380",
   "metadata": {},
   "outputs": [
    {
     "data": {
      "text/plain": [
       "{'user': 610,\n",
       " 'item': 166528,\n",
       " 'rating_pred': 4.1,\n",
       " 'details': {'actual_k': 27, 'was_impossible': False}}"
      ]
     },
     "execution_count": 49,
     "metadata": {},
     "output_type": "execute_result"
    }
   ],
   "source": [
    "predict_item_rating(user_id = 610,\n",
    "                    item_id = 166528,\n",
    "                    model = algo_best)"
   ]
  },
  {
   "cell_type": "code",
   "execution_count": 50,
   "id": "93a04209",
   "metadata": {},
   "outputs": [
    {
     "data": {
      "text/html": [
       "<div>\n",
       "<style scoped>\n",
       "    .dataframe tbody tr th:only-of-type {\n",
       "        vertical-align: middle;\n",
       "    }\n",
       "\n",
       "    .dataframe tbody tr th {\n",
       "        vertical-align: top;\n",
       "    }\n",
       "\n",
       "    .dataframe thead th {\n",
       "        text-align: right;\n",
       "    }\n",
       "</style>\n",
       "<table border=\"1\" class=\"dataframe\">\n",
       "  <thead>\n",
       "    <tr style=\"text-align: right;\">\n",
       "      <th></th>\n",
       "      <th>userId</th>\n",
       "      <th>movieId</th>\n",
       "      <th>rating</th>\n",
       "      <th>timestamp</th>\n",
       "    </tr>\n",
       "  </thead>\n",
       "  <tbody>\n",
       "    <tr>\n",
       "      <th>100830</th>\n",
       "      <td>610</td>\n",
       "      <td>166528</td>\n",
       "      <td>4.0</td>\n",
       "      <td>1493879365</td>\n",
       "    </tr>\n",
       "  </tbody>\n",
       "</table>\n",
       "</div>"
      ],
      "text/plain": [
       "        userId  movieId  rating   timestamp\n",
       "100830     610   166528     4.0  1493879365"
      ]
     },
     "execution_count": 50,
     "metadata": {},
     "output_type": "execute_result"
    }
   ],
   "source": [
    "# Compare with the original data\n",
    "rating_data_final[\n",
    "    (rating_data_final['userId']==610)\n",
    "    &\n",
    "    (rating_data_final['movieId']==166528)\n",
    "]"
   ]
  },
  {
   "cell_type": "markdown",
   "id": "9a6e5141",
   "metadata": {},
   "source": [
    "- Next, look for recommendations for 10 new films that user-id $u$ should watch\n",
    "- This means we just have to predict all the ratings, then sort them based on the largest rating"
   ]
  },
  {
   "cell_type": "code",
   "execution_count": 51,
   "id": "6e95f739",
   "metadata": {},
   "outputs": [],
   "source": [
    "# create a function to generate 10 movie recommendations for a user\n",
    "def get_recommendation(user_id, model, rating_data):\n",
    "    \"\"\"\n",
    "    Function to find movie recommendations for a user based on collaborative filtering\n",
    "\n",
    "    Parameters\n",
    "    ----------\n",
    "    user_id : int\n",
    "        User ID\n",
    "\n",
    "    model : surprise model\n",
    "        Collaborative filtering model\n",
    "\n",
    "    rating_data : pd.DataFrame\n",
    "        Historical rating data\n",
    "\n",
    "    Returns\n",
    "    -------\n",
    "    recommend_movie_id : np.array\n",
    "        List containing 10 movie IDs recommended for user_id\n",
    "    \"\"\"\n",
    "    # First, extract all movie IDs from the rating data\n",
    "    all_movie_id = set(rating_data['movieId'])\n",
    "\n",
    "    # Next, find the movie IDs that the user has watched\n",
    "    watched_movie_id = set(rating_data['movieId'][rating_data['userId'] == user_id])\n",
    "\n",
    "    # Then, find the movie IDs that the user has not watched yet\n",
    "    unwatched_movie_id = np.array(list(all_movie_id - watched_movie_id))\n",
    "\n",
    "    # Iterate to predict the rating for unwatched movie IDs\n",
    "    unwatched_rating = []\n",
    "    for movie_id in unwatched_movie_id:\n",
    "        pred = predict_item_rating(user_id=user_id, \n",
    "                                   item_id=movie_id, \n",
    "                                   model=model)\n",
    "        \n",
    "        unwatched_rating.append(pred['rating_pred'])\n",
    "    unwatched_rating = np.array(unwatched_rating)\n",
    "\n",
    "    # Next, sort the unwatched_rating from high to low and take the top 10 indices with the highest ratings\n",
    "    recommend_idx = (\n",
    "        np.argsort(unwatched_rating)[::-1]  # sort ratings from high to low\n",
    "        [:10]                               # take the top 10 highest values (indices)\n",
    "    )\n",
    "\n",
    "    # Finally, create a recommendation of movie IDs\n",
    "    recommend_movie_id = unwatched_movie_id[recommend_idx]\n",
    "\n",
    "    return recommend_movie_id"
   ]
  },
  {
   "cell_type": "code",
   "execution_count": 52,
   "id": "41358da0",
   "metadata": {},
   "outputs": [
    {
     "data": {
      "text/plain": [
       "array([177593,   2239,   3451,   2202,   1248, 170705,   5747,   1041,\n",
       "         3266,   3201])"
      ]
     },
     "execution_count": 52,
     "metadata": {},
     "output_type": "execute_result"
    }
   ],
   "source": [
    "# look for recommendations for the 10 latest films for 610 users\n",
    "recommend_movie_id = get_recommendation(\n",
    "                        user_id = 610,                   # isi dengan user id\n",
    "                        model = algo_best,               # isi dengan algoritma final dari collaborative filtering\n",
    "                        rating_data = rating_data_final  # isi dengan data historis\n",
    "                    )\n",
    "recommend_movie_id"
   ]
  },
  {
   "cell_type": "markdown",
   "id": "18a052a4",
   "metadata": {},
   "source": [
    "- All recommendations have been obtained\n",
    "- For the time being, we don't know what movie it is, so we can load the metadata of the movie ID with the additional file `movies.csv`"
   ]
  },
  {
   "cell_type": "code",
   "execution_count": 54,
   "id": "17fcb370",
   "metadata": {},
   "outputs": [
    {
     "data": {
      "text/html": [
       "<div>\n",
       "<style scoped>\n",
       "    .dataframe tbody tr th:only-of-type {\n",
       "        vertical-align: middle;\n",
       "    }\n",
       "\n",
       "    .dataframe tbody tr th {\n",
       "        vertical-align: top;\n",
       "    }\n",
       "\n",
       "    .dataframe thead th {\n",
       "        text-align: right;\n",
       "    }\n",
       "</style>\n",
       "<table border=\"1\" class=\"dataframe\">\n",
       "  <thead>\n",
       "    <tr style=\"text-align: right;\">\n",
       "      <th></th>\n",
       "      <th>title</th>\n",
       "      <th>genres</th>\n",
       "    </tr>\n",
       "    <tr>\n",
       "      <th>movieId</th>\n",
       "      <th></th>\n",
       "      <th></th>\n",
       "    </tr>\n",
       "  </thead>\n",
       "  <tbody>\n",
       "    <tr>\n",
       "      <th>1</th>\n",
       "      <td>Toy Story (1995)</td>\n",
       "      <td>Adventure|Animation|Children|Comedy|Fantasy</td>\n",
       "    </tr>\n",
       "    <tr>\n",
       "      <th>2</th>\n",
       "      <td>Jumanji (1995)</td>\n",
       "      <td>Adventure|Children|Fantasy</td>\n",
       "    </tr>\n",
       "    <tr>\n",
       "      <th>3</th>\n",
       "      <td>Grumpier Old Men (1995)</td>\n",
       "      <td>Comedy|Romance</td>\n",
       "    </tr>\n",
       "    <tr>\n",
       "      <th>4</th>\n",
       "      <td>Waiting to Exhale (1995)</td>\n",
       "      <td>Comedy|Drama|Romance</td>\n",
       "    </tr>\n",
       "    <tr>\n",
       "      <th>5</th>\n",
       "      <td>Father of the Bride Part II (1995)</td>\n",
       "      <td>Comedy</td>\n",
       "    </tr>\n",
       "  </tbody>\n",
       "</table>\n",
       "</div>"
      ],
      "text/plain": [
       "                                      title  \\\n",
       "movieId                                       \n",
       "1                          Toy Story (1995)   \n",
       "2                            Jumanji (1995)   \n",
       "3                   Grumpier Old Men (1995)   \n",
       "4                  Waiting to Exhale (1995)   \n",
       "5        Father of the Bride Part II (1995)   \n",
       "\n",
       "                                              genres  \n",
       "movieId                                               \n",
       "1        Adventure|Animation|Children|Comedy|Fantasy  \n",
       "2                         Adventure|Children|Fantasy  \n",
       "3                                     Comedy|Romance  \n",
       "4                               Comedy|Drama|Romance  \n",
       "5                                             Comedy  "
      ]
     },
     "execution_count": 54,
     "metadata": {},
     "output_type": "execute_result"
    }
   ],
   "source": [
    "# Load metadata from movies\n",
    "movie_metadata = pd.read_csv('movies.csv', index_col='movieId')\n",
    "movie_metadata.head()"
   ]
  },
  {
   "cell_type": "code",
   "execution_count": 55,
   "id": "3e3c192d",
   "metadata": {
    "scrolled": true
   },
   "outputs": [
    {
     "data": {
      "text/html": [
       "<div>\n",
       "<style scoped>\n",
       "    .dataframe tbody tr th:only-of-type {\n",
       "        vertical-align: middle;\n",
       "    }\n",
       "\n",
       "    .dataframe tbody tr th {\n",
       "        vertical-align: top;\n",
       "    }\n",
       "\n",
       "    .dataframe thead th {\n",
       "        text-align: right;\n",
       "    }\n",
       "</style>\n",
       "<table border=\"1\" class=\"dataframe\">\n",
       "  <thead>\n",
       "    <tr style=\"text-align: right;\">\n",
       "      <th></th>\n",
       "      <th>title</th>\n",
       "      <th>genres</th>\n",
       "    </tr>\n",
       "    <tr>\n",
       "      <th>movieId</th>\n",
       "      <th></th>\n",
       "      <th></th>\n",
       "    </tr>\n",
       "  </thead>\n",
       "  <tbody>\n",
       "    <tr>\n",
       "      <th>177593</th>\n",
       "      <td>Three Billboards Outside Ebbing, Missouri (2017)</td>\n",
       "      <td>Crime|Drama</td>\n",
       "    </tr>\n",
       "    <tr>\n",
       "      <th>2239</th>\n",
       "      <td>Swept Away (Travolti da un insolito destino ne...</td>\n",
       "      <td>Comedy|Drama</td>\n",
       "    </tr>\n",
       "    <tr>\n",
       "      <th>3451</th>\n",
       "      <td>Guess Who's Coming to Dinner (1967)</td>\n",
       "      <td>Drama</td>\n",
       "    </tr>\n",
       "    <tr>\n",
       "      <th>2202</th>\n",
       "      <td>Lifeboat (1944)</td>\n",
       "      <td>Drama|War</td>\n",
       "    </tr>\n",
       "    <tr>\n",
       "      <th>1248</th>\n",
       "      <td>Touch of Evil (1958)</td>\n",
       "      <td>Crime|Film-Noir|Thriller</td>\n",
       "    </tr>\n",
       "    <tr>\n",
       "      <th>170705</th>\n",
       "      <td>Band of Brothers (2001)</td>\n",
       "      <td>Action|Drama|War</td>\n",
       "    </tr>\n",
       "    <tr>\n",
       "      <th>5747</th>\n",
       "      <td>Gallipoli (1981)</td>\n",
       "      <td>Drama|War</td>\n",
       "    </tr>\n",
       "    <tr>\n",
       "      <th>1041</th>\n",
       "      <td>Secrets &amp; Lies (1996)</td>\n",
       "      <td>Drama</td>\n",
       "    </tr>\n",
       "    <tr>\n",
       "      <th>3266</th>\n",
       "      <td>Man Bites Dog (C'est arrivé près de chez vous)...</td>\n",
       "      <td>Comedy|Crime|Drama|Thriller</td>\n",
       "    </tr>\n",
       "    <tr>\n",
       "      <th>3201</th>\n",
       "      <td>Five Easy Pieces (1970)</td>\n",
       "      <td>Drama</td>\n",
       "    </tr>\n",
       "  </tbody>\n",
       "</table>\n",
       "</div>"
      ],
      "text/plain": [
       "                                                     title  \\\n",
       "movieId                                                      \n",
       "177593    Three Billboards Outside Ebbing, Missouri (2017)   \n",
       "2239     Swept Away (Travolti da un insolito destino ne...   \n",
       "3451                   Guess Who's Coming to Dinner (1967)   \n",
       "2202                                       Lifeboat (1944)   \n",
       "1248                                  Touch of Evil (1958)   \n",
       "170705                             Band of Brothers (2001)   \n",
       "5747                                      Gallipoli (1981)   \n",
       "1041                                 Secrets & Lies (1996)   \n",
       "3266     Man Bites Dog (C'est arrivé près de chez vous)...   \n",
       "3201                               Five Easy Pieces (1970)   \n",
       "\n",
       "                              genres  \n",
       "movieId                               \n",
       "177593                   Crime|Drama  \n",
       "2239                    Comedy|Drama  \n",
       "3451                           Drama  \n",
       "2202                       Drama|War  \n",
       "1248        Crime|Film-Noir|Thriller  \n",
       "170705              Action|Drama|War  \n",
       "5747                       Drama|War  \n",
       "1041                           Drama  \n",
       "3266     Comedy|Crime|Drama|Thriller  \n",
       "3201                           Drama  "
      ]
     },
     "execution_count": 55,
     "metadata": {},
     "output_type": "execute_result"
    }
   ],
   "source": [
    "# Show details of movie recommendations\n",
    "movie_metadata.loc[recommend_movie_id]"
   ]
  },
  {
   "cell_type": "markdown",
   "id": "ebe0d7f5",
   "metadata": {},
   "source": [
    "# Conclusion\n",
    "\n",
    "In this notebook, we embarked on an exciting journey into the world of collaborative filtering for movie recommendations using the Surprise library. 🎬🍿\n",
    "\n",
    "We started by preparing the data and building a collaborative filtering model, leveraging the power of user-item interactions to make personalized recommendations. Through our exploration, we implemented functions to predict ratings for movies and generate movie recommendations for a given user.\n",
    "\n",
    "Collaborative filtering proved to be a powerful tool for providing personalized movie recommendations, drawing insights from the ratings of similar users to enhance the recommendation process. This approach can be applied to various domains beyond movies, offering tailored recommendations based on user preferences.\n",
    "\n",
    "As we conclude this adventure, remember that the world of recommendation systems is vast and ever-evolving. 🚀 Feel free to experiment with different models, hyperparameters, and datasets to further refine your recommendation system and explore new collaborative filtering algorithms.\n",
    "\n",
    "Thank you for joining me on this exciting journey through collaborative filtering for movie recommendations. Here's to more thrilling adventures in the world of data science and machine learning! 🌟\n",
    "\n",
    "Happy recommending! 🎉"
   ]
  }
 ],
 "metadata": {
  "kernelspec": {
   "display_name": "Python 3 (ipykernel)",
   "language": "python",
   "name": "python3"
  },
  "language_info": {
   "codemirror_mode": {
    "name": "ipython",
    "version": 3
   },
   "file_extension": ".py",
   "mimetype": "text/x-python",
   "name": "python",
   "nbconvert_exporter": "python",
   "pygments_lexer": "ipython3",
   "version": "3.11.9"
  }
 },
 "nbformat": 4,
 "nbformat_minor": 5
}
